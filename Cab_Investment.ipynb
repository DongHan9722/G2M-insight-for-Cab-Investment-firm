{
  "cells": [
    {
      "cell_type": "markdown",
      "id": "07fa37e3",
      "metadata": {
        "id": "07fa37e3"
      },
      "source": [
        "# Introduction\n",
        "\n",
        "XYZ is a private firm in US. Due to remarkable growth in the Cab Industry in last few years and multiple key players in the market, it is planning for an investment in Cab (**Yellow** and **Pink**) industry and as per their Go-to-Market(G2M) strategy they want to understand the market before taking final decision.\n",
        "\n",
        "**Data Set Information**:\n",
        "\n",
        "You have been provided 4 individual data sets. Time period of data is from 31/01/2016 to 31/12/2018.\n",
        "\n",
        "Below are the list of datasets which are provided for the analysis:\n",
        "\n",
        "Cab_Data.csv – this file includes details of transaction for 2 cab companies\n",
        "\n",
        "Customer_ID.csv – this is a mapping table that contains a unique identifier which links the customer’s demographic details\n",
        "\n",
        "Transaction_ID.csv – this is a mapping table that contains transaction to customer mapping and payment mode\n",
        "\n",
        "City.csv – this file contains list of US cities, their population and number of cab users"
      ]
    },
    {
      "cell_type": "markdown",
      "id": "7c03e9d4",
      "metadata": {
        "id": "7c03e9d4"
      },
      "source": [
        "## Load Data\n",
        "\n",
        "The first thing done is to import needed libraries to analyse the data. Next the csv files are put into pandas databases."
      ]
    },
    {
      "cell_type": "code",
      "execution_count": 126,
      "id": "862f1bef",
      "metadata": {
        "id": "862f1bef"
      },
      "outputs": [],
      "source": [
        "import pandas as pd\n",
        "import numpy as np\n",
        "import matplotlib\n",
        "from matplotlib import pyplot as plt\n",
        "import seaborn as sns"
      ]
    },
    {
      "cell_type": "code",
      "execution_count": 127,
      "id": "775b56da",
      "metadata": {
        "id": "775b56da"
      },
      "outputs": [],
      "source": [
        "cab_df = pd.read_csv('/content/Cab_Data.csv')\n",
        "city_df = pd.read_csv('/content/City.csv')\n",
        "customer_df = pd.read_csv('/content/Customer_ID.csv')\n",
        "transaction_df = pd.read_csv('/content/Transaction_ID.csv')\n"
      ]
    },
    {
      "cell_type": "markdown",
      "id": "23d7595e",
      "metadata": {
        "id": "23d7595e"
      },
      "source": [
        "## Data Observation\n",
        "\n",
        "After the databases are made, I looked at each one to identify their data, and if they can be merged."
      ]
    },
    {
      "cell_type": "markdown",
      "id": "ebb69bf1",
      "metadata": {
        "id": "ebb69bf1"
      },
      "source": [
        "First we look at the `cab_db`. We see that it has the following columns:\n",
        "\n",
        "- **Transaction ID**: The unique ID for each ride.\n",
        "- **Date of Travel**: The date of the travel.\n",
        "- **Company**: The name of company.\n",
        "- **City**: The city where the user take ride.\n",
        "- **KM Traveled**: The length of the travel.\n",
        "- **Price Charged**: The ammount charged to the customer.\n",
        "- **Cost of Trip**: The cost of the trip for the company."
      ]
    },
    {
      "cell_type": "code",
      "execution_count": 128,
      "id": "048d10ee",
      "metadata": {
        "scrolled": true,
        "colab": {
          "base_uri": "https://localhost:8080/",
          "height": 206
        },
        "id": "048d10ee",
        "outputId": "77dc7739-1ec3-48de-ec4c-05f80c282422"
      },
      "outputs": [
        {
          "output_type": "execute_result",
          "data": {
            "text/plain": [
              "   Transaction ID  Date of Travel   Company        City  KM Travelled  \\\n",
              "0        10000011           42377  Pink Cab  ATLANTA GA         30.45   \n",
              "1        10000012           42375  Pink Cab  ATLANTA GA         28.62   \n",
              "2        10000013           42371  Pink Cab  ATLANTA GA          9.04   \n",
              "3        10000014           42376  Pink Cab  ATLANTA GA         33.17   \n",
              "4        10000015           42372  Pink Cab  ATLANTA GA          8.73   \n",
              "\n",
              "   Price Charged  Cost of Trip  \n",
              "0         370.95       313.635  \n",
              "1         358.52       334.854  \n",
              "2         125.20        97.632  \n",
              "3         377.40       351.602  \n",
              "4         114.62        97.776  "
            ],
            "text/html": [
              "\n",
              "  <div id=\"df-5d552d3d-d7d8-43a1-a422-bf0a4279a435\">\n",
              "    <div class=\"colab-df-container\">\n",
              "      <div>\n",
              "<style scoped>\n",
              "    .dataframe tbody tr th:only-of-type {\n",
              "        vertical-align: middle;\n",
              "    }\n",
              "\n",
              "    .dataframe tbody tr th {\n",
              "        vertical-align: top;\n",
              "    }\n",
              "\n",
              "    .dataframe thead th {\n",
              "        text-align: right;\n",
              "    }\n",
              "</style>\n",
              "<table border=\"1\" class=\"dataframe\">\n",
              "  <thead>\n",
              "    <tr style=\"text-align: right;\">\n",
              "      <th></th>\n",
              "      <th>Transaction ID</th>\n",
              "      <th>Date of Travel</th>\n",
              "      <th>Company</th>\n",
              "      <th>City</th>\n",
              "      <th>KM Travelled</th>\n",
              "      <th>Price Charged</th>\n",
              "      <th>Cost of Trip</th>\n",
              "    </tr>\n",
              "  </thead>\n",
              "  <tbody>\n",
              "    <tr>\n",
              "      <th>0</th>\n",
              "      <td>10000011</td>\n",
              "      <td>42377</td>\n",
              "      <td>Pink Cab</td>\n",
              "      <td>ATLANTA GA</td>\n",
              "      <td>30.45</td>\n",
              "      <td>370.95</td>\n",
              "      <td>313.635</td>\n",
              "    </tr>\n",
              "    <tr>\n",
              "      <th>1</th>\n",
              "      <td>10000012</td>\n",
              "      <td>42375</td>\n",
              "      <td>Pink Cab</td>\n",
              "      <td>ATLANTA GA</td>\n",
              "      <td>28.62</td>\n",
              "      <td>358.52</td>\n",
              "      <td>334.854</td>\n",
              "    </tr>\n",
              "    <tr>\n",
              "      <th>2</th>\n",
              "      <td>10000013</td>\n",
              "      <td>42371</td>\n",
              "      <td>Pink Cab</td>\n",
              "      <td>ATLANTA GA</td>\n",
              "      <td>9.04</td>\n",
              "      <td>125.20</td>\n",
              "      <td>97.632</td>\n",
              "    </tr>\n",
              "    <tr>\n",
              "      <th>3</th>\n",
              "      <td>10000014</td>\n",
              "      <td>42376</td>\n",
              "      <td>Pink Cab</td>\n",
              "      <td>ATLANTA GA</td>\n",
              "      <td>33.17</td>\n",
              "      <td>377.40</td>\n",
              "      <td>351.602</td>\n",
              "    </tr>\n",
              "    <tr>\n",
              "      <th>4</th>\n",
              "      <td>10000015</td>\n",
              "      <td>42372</td>\n",
              "      <td>Pink Cab</td>\n",
              "      <td>ATLANTA GA</td>\n",
              "      <td>8.73</td>\n",
              "      <td>114.62</td>\n",
              "      <td>97.776</td>\n",
              "    </tr>\n",
              "  </tbody>\n",
              "</table>\n",
              "</div>\n",
              "      <button class=\"colab-df-convert\" onclick=\"convertToInteractive('df-5d552d3d-d7d8-43a1-a422-bf0a4279a435')\"\n",
              "              title=\"Convert this dataframe to an interactive table.\"\n",
              "              style=\"display:none;\">\n",
              "        \n",
              "  <svg xmlns=\"http://www.w3.org/2000/svg\" height=\"24px\"viewBox=\"0 0 24 24\"\n",
              "       width=\"24px\">\n",
              "    <path d=\"M0 0h24v24H0V0z\" fill=\"none\"/>\n",
              "    <path d=\"M18.56 5.44l.94 2.06.94-2.06 2.06-.94-2.06-.94-.94-2.06-.94 2.06-2.06.94zm-11 1L8.5 8.5l.94-2.06 2.06-.94-2.06-.94L8.5 2.5l-.94 2.06-2.06.94zm10 10l.94 2.06.94-2.06 2.06-.94-2.06-.94-.94-2.06-.94 2.06-2.06.94z\"/><path d=\"M17.41 7.96l-1.37-1.37c-.4-.4-.92-.59-1.43-.59-.52 0-1.04.2-1.43.59L10.3 9.45l-7.72 7.72c-.78.78-.78 2.05 0 2.83L4 21.41c.39.39.9.59 1.41.59.51 0 1.02-.2 1.41-.59l7.78-7.78 2.81-2.81c.8-.78.8-2.07 0-2.86zM5.41 20L4 18.59l7.72-7.72 1.47 1.35L5.41 20z\"/>\n",
              "  </svg>\n",
              "      </button>\n",
              "      \n",
              "  <style>\n",
              "    .colab-df-container {\n",
              "      display:flex;\n",
              "      flex-wrap:wrap;\n",
              "      gap: 12px;\n",
              "    }\n",
              "\n",
              "    .colab-df-convert {\n",
              "      background-color: #E8F0FE;\n",
              "      border: none;\n",
              "      border-radius: 50%;\n",
              "      cursor: pointer;\n",
              "      display: none;\n",
              "      fill: #1967D2;\n",
              "      height: 32px;\n",
              "      padding: 0 0 0 0;\n",
              "      width: 32px;\n",
              "    }\n",
              "\n",
              "    .colab-df-convert:hover {\n",
              "      background-color: #E2EBFA;\n",
              "      box-shadow: 0px 1px 2px rgba(60, 64, 67, 0.3), 0px 1px 3px 1px rgba(60, 64, 67, 0.15);\n",
              "      fill: #174EA6;\n",
              "    }\n",
              "\n",
              "    [theme=dark] .colab-df-convert {\n",
              "      background-color: #3B4455;\n",
              "      fill: #D2E3FC;\n",
              "    }\n",
              "\n",
              "    [theme=dark] .colab-df-convert:hover {\n",
              "      background-color: #434B5C;\n",
              "      box-shadow: 0px 1px 3px 1px rgba(0, 0, 0, 0.15);\n",
              "      filter: drop-shadow(0px 1px 2px rgba(0, 0, 0, 0.3));\n",
              "      fill: #FFFFFF;\n",
              "    }\n",
              "  </style>\n",
              "\n",
              "      <script>\n",
              "        const buttonEl =\n",
              "          document.querySelector('#df-5d552d3d-d7d8-43a1-a422-bf0a4279a435 button.colab-df-convert');\n",
              "        buttonEl.style.display =\n",
              "          google.colab.kernel.accessAllowed ? 'block' : 'none';\n",
              "\n",
              "        async function convertToInteractive(key) {\n",
              "          const element = document.querySelector('#df-5d552d3d-d7d8-43a1-a422-bf0a4279a435');\n",
              "          const dataTable =\n",
              "            await google.colab.kernel.invokeFunction('convertToInteractive',\n",
              "                                                     [key], {});\n",
              "          if (!dataTable) return;\n",
              "\n",
              "          const docLinkHtml = 'Like what you see? Visit the ' +\n",
              "            '<a target=\"_blank\" href=https://colab.research.google.com/notebooks/data_table.ipynb>data table notebook</a>'\n",
              "            + ' to learn more about interactive tables.';\n",
              "          element.innerHTML = '';\n",
              "          dataTable['output_type'] = 'display_data';\n",
              "          await google.colab.output.renderOutput(dataTable, element);\n",
              "          const docLink = document.createElement('div');\n",
              "          docLink.innerHTML = docLinkHtml;\n",
              "          element.appendChild(docLink);\n",
              "        }\n",
              "      </script>\n",
              "    </div>\n",
              "  </div>\n",
              "  "
            ]
          },
          "metadata": {},
          "execution_count": 128
        }
      ],
      "source": [
        "cab_df.head()"
      ]
    },
    {
      "cell_type": "code",
      "source": [
        "print(f\"number of row and column:\",cab_df.shape)"
      ],
      "metadata": {
        "colab": {
          "base_uri": "https://localhost:8080/"
        },
        "id": "Td3CIn8JgibR",
        "outputId": "196041bb-5d5c-41ad-a1d9-5d360189ddf3"
      },
      "id": "Td3CIn8JgibR",
      "execution_count": 129,
      "outputs": [
        {
          "output_type": "stream",
          "name": "stdout",
          "text": [
            "number of row and column: (359392, 7)\n"
          ]
        }
      ]
    },
    {
      "cell_type": "markdown",
      "id": "7ab7837e",
      "metadata": {
        "id": "7ab7837e"
      },
      "source": [
        "`city_db` contains the following columns:\n",
        "\n",
        "- **City**: Name of the city.\n",
        "- **Population**: Population of the city.\n",
        "- **Users**: Number of customers in the city."
      ]
    },
    {
      "cell_type": "code",
      "execution_count": 130,
      "id": "5ecf16c0",
      "metadata": {
        "scrolled": true,
        "colab": {
          "base_uri": "https://localhost:8080/",
          "height": 206
        },
        "id": "5ecf16c0",
        "outputId": "778e36df-af72-4015-8aaf-c54ce97e2be2"
      },
      "outputs": [
        {
          "output_type": "execute_result",
          "data": {
            "text/plain": [
              "             City   Population      Users\n",
              "0     NEW YORK NY   8,405,837    302,149 \n",
              "1      CHICAGO IL   1,955,130    164,468 \n",
              "2  LOS ANGELES CA   1,595,037    144,132 \n",
              "3        MIAMI FL   1,339,155     17,675 \n",
              "4  SILICON VALLEY   1,177,609     27,247 "
            ],
            "text/html": [
              "\n",
              "  <div id=\"df-23761502-6ccc-4dd3-a695-c3c414267232\">\n",
              "    <div class=\"colab-df-container\">\n",
              "      <div>\n",
              "<style scoped>\n",
              "    .dataframe tbody tr th:only-of-type {\n",
              "        vertical-align: middle;\n",
              "    }\n",
              "\n",
              "    .dataframe tbody tr th {\n",
              "        vertical-align: top;\n",
              "    }\n",
              "\n",
              "    .dataframe thead th {\n",
              "        text-align: right;\n",
              "    }\n",
              "</style>\n",
              "<table border=\"1\" class=\"dataframe\">\n",
              "  <thead>\n",
              "    <tr style=\"text-align: right;\">\n",
              "      <th></th>\n",
              "      <th>City</th>\n",
              "      <th>Population</th>\n",
              "      <th>Users</th>\n",
              "    </tr>\n",
              "  </thead>\n",
              "  <tbody>\n",
              "    <tr>\n",
              "      <th>0</th>\n",
              "      <td>NEW YORK NY</td>\n",
              "      <td>8,405,837</td>\n",
              "      <td>302,149</td>\n",
              "    </tr>\n",
              "    <tr>\n",
              "      <th>1</th>\n",
              "      <td>CHICAGO IL</td>\n",
              "      <td>1,955,130</td>\n",
              "      <td>164,468</td>\n",
              "    </tr>\n",
              "    <tr>\n",
              "      <th>2</th>\n",
              "      <td>LOS ANGELES CA</td>\n",
              "      <td>1,595,037</td>\n",
              "      <td>144,132</td>\n",
              "    </tr>\n",
              "    <tr>\n",
              "      <th>3</th>\n",
              "      <td>MIAMI FL</td>\n",
              "      <td>1,339,155</td>\n",
              "      <td>17,675</td>\n",
              "    </tr>\n",
              "    <tr>\n",
              "      <th>4</th>\n",
              "      <td>SILICON VALLEY</td>\n",
              "      <td>1,177,609</td>\n",
              "      <td>27,247</td>\n",
              "    </tr>\n",
              "  </tbody>\n",
              "</table>\n",
              "</div>\n",
              "      <button class=\"colab-df-convert\" onclick=\"convertToInteractive('df-23761502-6ccc-4dd3-a695-c3c414267232')\"\n",
              "              title=\"Convert this dataframe to an interactive table.\"\n",
              "              style=\"display:none;\">\n",
              "        \n",
              "  <svg xmlns=\"http://www.w3.org/2000/svg\" height=\"24px\"viewBox=\"0 0 24 24\"\n",
              "       width=\"24px\">\n",
              "    <path d=\"M0 0h24v24H0V0z\" fill=\"none\"/>\n",
              "    <path d=\"M18.56 5.44l.94 2.06.94-2.06 2.06-.94-2.06-.94-.94-2.06-.94 2.06-2.06.94zm-11 1L8.5 8.5l.94-2.06 2.06-.94-2.06-.94L8.5 2.5l-.94 2.06-2.06.94zm10 10l.94 2.06.94-2.06 2.06-.94-2.06-.94-.94-2.06-.94 2.06-2.06.94z\"/><path d=\"M17.41 7.96l-1.37-1.37c-.4-.4-.92-.59-1.43-.59-.52 0-1.04.2-1.43.59L10.3 9.45l-7.72 7.72c-.78.78-.78 2.05 0 2.83L4 21.41c.39.39.9.59 1.41.59.51 0 1.02-.2 1.41-.59l7.78-7.78 2.81-2.81c.8-.78.8-2.07 0-2.86zM5.41 20L4 18.59l7.72-7.72 1.47 1.35L5.41 20z\"/>\n",
              "  </svg>\n",
              "      </button>\n",
              "      \n",
              "  <style>\n",
              "    .colab-df-container {\n",
              "      display:flex;\n",
              "      flex-wrap:wrap;\n",
              "      gap: 12px;\n",
              "    }\n",
              "\n",
              "    .colab-df-convert {\n",
              "      background-color: #E8F0FE;\n",
              "      border: none;\n",
              "      border-radius: 50%;\n",
              "      cursor: pointer;\n",
              "      display: none;\n",
              "      fill: #1967D2;\n",
              "      height: 32px;\n",
              "      padding: 0 0 0 0;\n",
              "      width: 32px;\n",
              "    }\n",
              "\n",
              "    .colab-df-convert:hover {\n",
              "      background-color: #E2EBFA;\n",
              "      box-shadow: 0px 1px 2px rgba(60, 64, 67, 0.3), 0px 1px 3px 1px rgba(60, 64, 67, 0.15);\n",
              "      fill: #174EA6;\n",
              "    }\n",
              "\n",
              "    [theme=dark] .colab-df-convert {\n",
              "      background-color: #3B4455;\n",
              "      fill: #D2E3FC;\n",
              "    }\n",
              "\n",
              "    [theme=dark] .colab-df-convert:hover {\n",
              "      background-color: #434B5C;\n",
              "      box-shadow: 0px 1px 3px 1px rgba(0, 0, 0, 0.15);\n",
              "      filter: drop-shadow(0px 1px 2px rgba(0, 0, 0, 0.3));\n",
              "      fill: #FFFFFF;\n",
              "    }\n",
              "  </style>\n",
              "\n",
              "      <script>\n",
              "        const buttonEl =\n",
              "          document.querySelector('#df-23761502-6ccc-4dd3-a695-c3c414267232 button.colab-df-convert');\n",
              "        buttonEl.style.display =\n",
              "          google.colab.kernel.accessAllowed ? 'block' : 'none';\n",
              "\n",
              "        async function convertToInteractive(key) {\n",
              "          const element = document.querySelector('#df-23761502-6ccc-4dd3-a695-c3c414267232');\n",
              "          const dataTable =\n",
              "            await google.colab.kernel.invokeFunction('convertToInteractive',\n",
              "                                                     [key], {});\n",
              "          if (!dataTable) return;\n",
              "\n",
              "          const docLinkHtml = 'Like what you see? Visit the ' +\n",
              "            '<a target=\"_blank\" href=https://colab.research.google.com/notebooks/data_table.ipynb>data table notebook</a>'\n",
              "            + ' to learn more about interactive tables.';\n",
              "          element.innerHTML = '';\n",
              "          dataTable['output_type'] = 'display_data';\n",
              "          await google.colab.output.renderOutput(dataTable, element);\n",
              "          const docLink = document.createElement('div');\n",
              "          docLink.innerHTML = docLinkHtml;\n",
              "          element.appendChild(docLink);\n",
              "        }\n",
              "      </script>\n",
              "    </div>\n",
              "  </div>\n",
              "  "
            ]
          },
          "metadata": {},
          "execution_count": 130
        }
      ],
      "source": [
        "city_df.head()"
      ]
    },
    {
      "cell_type": "code",
      "source": [
        "print(f\"number of row and column:\",city_df.shape)"
      ],
      "metadata": {
        "colab": {
          "base_uri": "https://localhost:8080/"
        },
        "id": "GJEBLFVViGpb",
        "outputId": "4d879fe0-e3ef-4c20-9583-0e602b08b28e"
      },
      "id": "GJEBLFVViGpb",
      "execution_count": 131,
      "outputs": [
        {
          "output_type": "stream",
          "name": "stdout",
          "text": [
            "number of row and column: (20, 3)\n"
          ]
        }
      ]
    },
    {
      "cell_type": "markdown",
      "id": "c98dce06",
      "metadata": {
        "id": "c98dce06"
      },
      "source": [
        "`customer_db` contains the following columns:\n",
        "\n",
        "- **Customer ID**: Unique ID for each customer.\n",
        "- **Gender**: Gender of the customer.\n",
        "- **Age**: Age of the customer.\n",
        "- **Income (USD/Month)**: Salary of customer in each month."
      ]
    },
    {
      "cell_type": "code",
      "execution_count": 132,
      "id": "b5da760a",
      "metadata": {
        "scrolled": true,
        "colab": {
          "base_uri": "https://localhost:8080/",
          "height": 206
        },
        "id": "b5da760a",
        "outputId": "71a7d6ee-dee5-4a41-9d17-13e361568b5c"
      },
      "outputs": [
        {
          "output_type": "execute_result",
          "data": {
            "text/plain": [
              "   Customer ID Gender  Age  Income (USD/Month)\n",
              "0        29290   Male   28               10813\n",
              "1        27703   Male   27                9237\n",
              "2        28712   Male   53               11242\n",
              "3        28020   Male   23               23327\n",
              "4        27182   Male   33                8536"
            ],
            "text/html": [
              "\n",
              "  <div id=\"df-db32c18f-021f-47bf-b0e7-7a3cd6a927bf\">\n",
              "    <div class=\"colab-df-container\">\n",
              "      <div>\n",
              "<style scoped>\n",
              "    .dataframe tbody tr th:only-of-type {\n",
              "        vertical-align: middle;\n",
              "    }\n",
              "\n",
              "    .dataframe tbody tr th {\n",
              "        vertical-align: top;\n",
              "    }\n",
              "\n",
              "    .dataframe thead th {\n",
              "        text-align: right;\n",
              "    }\n",
              "</style>\n",
              "<table border=\"1\" class=\"dataframe\">\n",
              "  <thead>\n",
              "    <tr style=\"text-align: right;\">\n",
              "      <th></th>\n",
              "      <th>Customer ID</th>\n",
              "      <th>Gender</th>\n",
              "      <th>Age</th>\n",
              "      <th>Income (USD/Month)</th>\n",
              "    </tr>\n",
              "  </thead>\n",
              "  <tbody>\n",
              "    <tr>\n",
              "      <th>0</th>\n",
              "      <td>29290</td>\n",
              "      <td>Male</td>\n",
              "      <td>28</td>\n",
              "      <td>10813</td>\n",
              "    </tr>\n",
              "    <tr>\n",
              "      <th>1</th>\n",
              "      <td>27703</td>\n",
              "      <td>Male</td>\n",
              "      <td>27</td>\n",
              "      <td>9237</td>\n",
              "    </tr>\n",
              "    <tr>\n",
              "      <th>2</th>\n",
              "      <td>28712</td>\n",
              "      <td>Male</td>\n",
              "      <td>53</td>\n",
              "      <td>11242</td>\n",
              "    </tr>\n",
              "    <tr>\n",
              "      <th>3</th>\n",
              "      <td>28020</td>\n",
              "      <td>Male</td>\n",
              "      <td>23</td>\n",
              "      <td>23327</td>\n",
              "    </tr>\n",
              "    <tr>\n",
              "      <th>4</th>\n",
              "      <td>27182</td>\n",
              "      <td>Male</td>\n",
              "      <td>33</td>\n",
              "      <td>8536</td>\n",
              "    </tr>\n",
              "  </tbody>\n",
              "</table>\n",
              "</div>\n",
              "      <button class=\"colab-df-convert\" onclick=\"convertToInteractive('df-db32c18f-021f-47bf-b0e7-7a3cd6a927bf')\"\n",
              "              title=\"Convert this dataframe to an interactive table.\"\n",
              "              style=\"display:none;\">\n",
              "        \n",
              "  <svg xmlns=\"http://www.w3.org/2000/svg\" height=\"24px\"viewBox=\"0 0 24 24\"\n",
              "       width=\"24px\">\n",
              "    <path d=\"M0 0h24v24H0V0z\" fill=\"none\"/>\n",
              "    <path d=\"M18.56 5.44l.94 2.06.94-2.06 2.06-.94-2.06-.94-.94-2.06-.94 2.06-2.06.94zm-11 1L8.5 8.5l.94-2.06 2.06-.94-2.06-.94L8.5 2.5l-.94 2.06-2.06.94zm10 10l.94 2.06.94-2.06 2.06-.94-2.06-.94-.94-2.06-.94 2.06-2.06.94z\"/><path d=\"M17.41 7.96l-1.37-1.37c-.4-.4-.92-.59-1.43-.59-.52 0-1.04.2-1.43.59L10.3 9.45l-7.72 7.72c-.78.78-.78 2.05 0 2.83L4 21.41c.39.39.9.59 1.41.59.51 0 1.02-.2 1.41-.59l7.78-7.78 2.81-2.81c.8-.78.8-2.07 0-2.86zM5.41 20L4 18.59l7.72-7.72 1.47 1.35L5.41 20z\"/>\n",
              "  </svg>\n",
              "      </button>\n",
              "      \n",
              "  <style>\n",
              "    .colab-df-container {\n",
              "      display:flex;\n",
              "      flex-wrap:wrap;\n",
              "      gap: 12px;\n",
              "    }\n",
              "\n",
              "    .colab-df-convert {\n",
              "      background-color: #E8F0FE;\n",
              "      border: none;\n",
              "      border-radius: 50%;\n",
              "      cursor: pointer;\n",
              "      display: none;\n",
              "      fill: #1967D2;\n",
              "      height: 32px;\n",
              "      padding: 0 0 0 0;\n",
              "      width: 32px;\n",
              "    }\n",
              "\n",
              "    .colab-df-convert:hover {\n",
              "      background-color: #E2EBFA;\n",
              "      box-shadow: 0px 1px 2px rgba(60, 64, 67, 0.3), 0px 1px 3px 1px rgba(60, 64, 67, 0.15);\n",
              "      fill: #174EA6;\n",
              "    }\n",
              "\n",
              "    [theme=dark] .colab-df-convert {\n",
              "      background-color: #3B4455;\n",
              "      fill: #D2E3FC;\n",
              "    }\n",
              "\n",
              "    [theme=dark] .colab-df-convert:hover {\n",
              "      background-color: #434B5C;\n",
              "      box-shadow: 0px 1px 3px 1px rgba(0, 0, 0, 0.15);\n",
              "      filter: drop-shadow(0px 1px 2px rgba(0, 0, 0, 0.3));\n",
              "      fill: #FFFFFF;\n",
              "    }\n",
              "  </style>\n",
              "\n",
              "      <script>\n",
              "        const buttonEl =\n",
              "          document.querySelector('#df-db32c18f-021f-47bf-b0e7-7a3cd6a927bf button.colab-df-convert');\n",
              "        buttonEl.style.display =\n",
              "          google.colab.kernel.accessAllowed ? 'block' : 'none';\n",
              "\n",
              "        async function convertToInteractive(key) {\n",
              "          const element = document.querySelector('#df-db32c18f-021f-47bf-b0e7-7a3cd6a927bf');\n",
              "          const dataTable =\n",
              "            await google.colab.kernel.invokeFunction('convertToInteractive',\n",
              "                                                     [key], {});\n",
              "          if (!dataTable) return;\n",
              "\n",
              "          const docLinkHtml = 'Like what you see? Visit the ' +\n",
              "            '<a target=\"_blank\" href=https://colab.research.google.com/notebooks/data_table.ipynb>data table notebook</a>'\n",
              "            + ' to learn more about interactive tables.';\n",
              "          element.innerHTML = '';\n",
              "          dataTable['output_type'] = 'display_data';\n",
              "          await google.colab.output.renderOutput(dataTable, element);\n",
              "          const docLink = document.createElement('div');\n",
              "          docLink.innerHTML = docLinkHtml;\n",
              "          element.appendChild(docLink);\n",
              "        }\n",
              "      </script>\n",
              "    </div>\n",
              "  </div>\n",
              "  "
            ]
          },
          "metadata": {},
          "execution_count": 132
        }
      ],
      "source": [
        "customer_df.head()"
      ]
    },
    {
      "cell_type": "code",
      "source": [
        "print(f\"number of row and column:\",customer_df.shape)"
      ],
      "metadata": {
        "colab": {
          "base_uri": "https://localhost:8080/"
        },
        "id": "DgffLGvfiQKw",
        "outputId": "49bbb4d0-3fdd-4cc5-b803-2e38a0abc9c9"
      },
      "id": "DgffLGvfiQKw",
      "execution_count": 133,
      "outputs": [
        {
          "output_type": "stream",
          "name": "stdout",
          "text": [
            "number of row and column: (49171, 4)\n"
          ]
        }
      ]
    },
    {
      "cell_type": "markdown",
      "id": "5b111c1c",
      "metadata": {
        "id": "5b111c1c"
      },
      "source": [
        "`transaction_db` contains the following columns:\n",
        "\n",
        "- **Transaction ID**: A unique ID for each ride.\n",
        "- **Customer ID**: A unique ID for each customer.\n",
        "- **Payment_Mode**: Payment method for the transaction."
      ]
    },
    {
      "cell_type": "code",
      "execution_count": 134,
      "id": "5be8429d",
      "metadata": {
        "scrolled": true,
        "colab": {
          "base_uri": "https://localhost:8080/",
          "height": 206
        },
        "id": "5be8429d",
        "outputId": "15f9d35c-7527-4154-bb78-1c713b0e5cc7"
      },
      "outputs": [
        {
          "output_type": "execute_result",
          "data": {
            "text/plain": [
              "   Transaction ID  Customer ID Payment_Mode\n",
              "0        10000011        29290         Card\n",
              "1        10000012        27703         Card\n",
              "2        10000013        28712         Cash\n",
              "3        10000014        28020         Cash\n",
              "4        10000015        27182         Card"
            ],
            "text/html": [
              "\n",
              "  <div id=\"df-4cc8e6fd-5ef1-4064-a8ce-0175e398ac65\">\n",
              "    <div class=\"colab-df-container\">\n",
              "      <div>\n",
              "<style scoped>\n",
              "    .dataframe tbody tr th:only-of-type {\n",
              "        vertical-align: middle;\n",
              "    }\n",
              "\n",
              "    .dataframe tbody tr th {\n",
              "        vertical-align: top;\n",
              "    }\n",
              "\n",
              "    .dataframe thead th {\n",
              "        text-align: right;\n",
              "    }\n",
              "</style>\n",
              "<table border=\"1\" class=\"dataframe\">\n",
              "  <thead>\n",
              "    <tr style=\"text-align: right;\">\n",
              "      <th></th>\n",
              "      <th>Transaction ID</th>\n",
              "      <th>Customer ID</th>\n",
              "      <th>Payment_Mode</th>\n",
              "    </tr>\n",
              "  </thead>\n",
              "  <tbody>\n",
              "    <tr>\n",
              "      <th>0</th>\n",
              "      <td>10000011</td>\n",
              "      <td>29290</td>\n",
              "      <td>Card</td>\n",
              "    </tr>\n",
              "    <tr>\n",
              "      <th>1</th>\n",
              "      <td>10000012</td>\n",
              "      <td>27703</td>\n",
              "      <td>Card</td>\n",
              "    </tr>\n",
              "    <tr>\n",
              "      <th>2</th>\n",
              "      <td>10000013</td>\n",
              "      <td>28712</td>\n",
              "      <td>Cash</td>\n",
              "    </tr>\n",
              "    <tr>\n",
              "      <th>3</th>\n",
              "      <td>10000014</td>\n",
              "      <td>28020</td>\n",
              "      <td>Cash</td>\n",
              "    </tr>\n",
              "    <tr>\n",
              "      <th>4</th>\n",
              "      <td>10000015</td>\n",
              "      <td>27182</td>\n",
              "      <td>Card</td>\n",
              "    </tr>\n",
              "  </tbody>\n",
              "</table>\n",
              "</div>\n",
              "      <button class=\"colab-df-convert\" onclick=\"convertToInteractive('df-4cc8e6fd-5ef1-4064-a8ce-0175e398ac65')\"\n",
              "              title=\"Convert this dataframe to an interactive table.\"\n",
              "              style=\"display:none;\">\n",
              "        \n",
              "  <svg xmlns=\"http://www.w3.org/2000/svg\" height=\"24px\"viewBox=\"0 0 24 24\"\n",
              "       width=\"24px\">\n",
              "    <path d=\"M0 0h24v24H0V0z\" fill=\"none\"/>\n",
              "    <path d=\"M18.56 5.44l.94 2.06.94-2.06 2.06-.94-2.06-.94-.94-2.06-.94 2.06-2.06.94zm-11 1L8.5 8.5l.94-2.06 2.06-.94-2.06-.94L8.5 2.5l-.94 2.06-2.06.94zm10 10l.94 2.06.94-2.06 2.06-.94-2.06-.94-.94-2.06-.94 2.06-2.06.94z\"/><path d=\"M17.41 7.96l-1.37-1.37c-.4-.4-.92-.59-1.43-.59-.52 0-1.04.2-1.43.59L10.3 9.45l-7.72 7.72c-.78.78-.78 2.05 0 2.83L4 21.41c.39.39.9.59 1.41.59.51 0 1.02-.2 1.41-.59l7.78-7.78 2.81-2.81c.8-.78.8-2.07 0-2.86zM5.41 20L4 18.59l7.72-7.72 1.47 1.35L5.41 20z\"/>\n",
              "  </svg>\n",
              "      </button>\n",
              "      \n",
              "  <style>\n",
              "    .colab-df-container {\n",
              "      display:flex;\n",
              "      flex-wrap:wrap;\n",
              "      gap: 12px;\n",
              "    }\n",
              "\n",
              "    .colab-df-convert {\n",
              "      background-color: #E8F0FE;\n",
              "      border: none;\n",
              "      border-radius: 50%;\n",
              "      cursor: pointer;\n",
              "      display: none;\n",
              "      fill: #1967D2;\n",
              "      height: 32px;\n",
              "      padding: 0 0 0 0;\n",
              "      width: 32px;\n",
              "    }\n",
              "\n",
              "    .colab-df-convert:hover {\n",
              "      background-color: #E2EBFA;\n",
              "      box-shadow: 0px 1px 2px rgba(60, 64, 67, 0.3), 0px 1px 3px 1px rgba(60, 64, 67, 0.15);\n",
              "      fill: #174EA6;\n",
              "    }\n",
              "\n",
              "    [theme=dark] .colab-df-convert {\n",
              "      background-color: #3B4455;\n",
              "      fill: #D2E3FC;\n",
              "    }\n",
              "\n",
              "    [theme=dark] .colab-df-convert:hover {\n",
              "      background-color: #434B5C;\n",
              "      box-shadow: 0px 1px 3px 1px rgba(0, 0, 0, 0.15);\n",
              "      filter: drop-shadow(0px 1px 2px rgba(0, 0, 0, 0.3));\n",
              "      fill: #FFFFFF;\n",
              "    }\n",
              "  </style>\n",
              "\n",
              "      <script>\n",
              "        const buttonEl =\n",
              "          document.querySelector('#df-4cc8e6fd-5ef1-4064-a8ce-0175e398ac65 button.colab-df-convert');\n",
              "        buttonEl.style.display =\n",
              "          google.colab.kernel.accessAllowed ? 'block' : 'none';\n",
              "\n",
              "        async function convertToInteractive(key) {\n",
              "          const element = document.querySelector('#df-4cc8e6fd-5ef1-4064-a8ce-0175e398ac65');\n",
              "          const dataTable =\n",
              "            await google.colab.kernel.invokeFunction('convertToInteractive',\n",
              "                                                     [key], {});\n",
              "          if (!dataTable) return;\n",
              "\n",
              "          const docLinkHtml = 'Like what you see? Visit the ' +\n",
              "            '<a target=\"_blank\" href=https://colab.research.google.com/notebooks/data_table.ipynb>data table notebook</a>'\n",
              "            + ' to learn more about interactive tables.';\n",
              "          element.innerHTML = '';\n",
              "          dataTable['output_type'] = 'display_data';\n",
              "          await google.colab.output.renderOutput(dataTable, element);\n",
              "          const docLink = document.createElement('div');\n",
              "          docLink.innerHTML = docLinkHtml;\n",
              "          element.appendChild(docLink);\n",
              "        }\n",
              "      </script>\n",
              "    </div>\n",
              "  </div>\n",
              "  "
            ]
          },
          "metadata": {},
          "execution_count": 134
        }
      ],
      "source": [
        "transaction_df.head()"
      ]
    },
    {
      "cell_type": "code",
      "source": [
        "print(f\"number of row and column:\", transaction_df.shape)"
      ],
      "metadata": {
        "colab": {
          "base_uri": "https://localhost:8080/"
        },
        "id": "G3HzPsG4idcP",
        "outputId": "9f896bfa-1f54-449b-f785-289a86d1f798"
      },
      "id": "G3HzPsG4idcP",
      "execution_count": 135,
      "outputs": [
        {
          "output_type": "stream",
          "name": "stdout",
          "text": [
            "number of row and column: (440098, 3)\n"
          ]
        }
      ]
    },
    {
      "cell_type": "markdown",
      "source": [
        "## NA value and outlier detection"
      ],
      "metadata": {
        "id": "yYCExdQfkcJi"
      },
      "id": "yYCExdQfkcJi"
    },
    {
      "cell_type": "code",
      "source": [
        "# Detect NA values in each file\n",
        "print(cab_df.isnull().values.any())\n",
        "print(city_df.isnull().values.any())\n",
        "print(customer_df.isnull().values.any())\n",
        "print(transaction_df.isnull().values.any())"
      ],
      "metadata": {
        "colab": {
          "base_uri": "https://localhost:8080/"
        },
        "id": "H8TsvxE_kqpU",
        "outputId": "c2e97f8b-ef2d-46ff-a556-dcc3ae879c2d"
      },
      "id": "H8TsvxE_kqpU",
      "execution_count": 136,
      "outputs": [
        {
          "output_type": "stream",
          "name": "stdout",
          "text": [
            "False\n",
            "False\n",
            "False\n",
            "False\n"
          ]
        }
      ]
    },
    {
      "cell_type": "code",
      "source": [
        "!pip install outlier-detection\n",
        "from outlier_detection import detect_outliers_using_iqr"
      ],
      "metadata": {
        "id": "6oF8k39enMbq",
        "colab": {
          "base_uri": "https://localhost:8080/"
        },
        "outputId": "68f35d49-e53c-4de2-df18-fec600a12d7d"
      },
      "id": "6oF8k39enMbq",
      "execution_count": 137,
      "outputs": [
        {
          "output_type": "stream",
          "name": "stdout",
          "text": [
            "Looking in indexes: https://pypi.org/simple, https://us-python.pkg.dev/colab-wheels/public/simple/\n",
            "Requirement already satisfied: outlier-detection in /usr/local/lib/python3.8/dist-packages (1.0.6)\n",
            "Requirement already satisfied: matplotlib==3.2.2 in /usr/local/lib/python3.8/dist-packages (from outlier-detection) (3.2.2)\n",
            "Requirement already satisfied: seaborn==0.11.1 in /usr/local/lib/python3.8/dist-packages (from outlier-detection) (0.11.1)\n",
            "Requirement already satisfied: python-dateutil>=2.1 in /usr/local/lib/python3.8/dist-packages (from matplotlib==3.2.2->outlier-detection) (2.8.2)\n",
            "Requirement already satisfied: cycler>=0.10 in /usr/local/lib/python3.8/dist-packages (from matplotlib==3.2.2->outlier-detection) (0.11.0)\n",
            "Requirement already satisfied: pyparsing!=2.0.4,!=2.1.2,!=2.1.6,>=2.0.1 in /usr/local/lib/python3.8/dist-packages (from matplotlib==3.2.2->outlier-detection) (3.0.9)\n",
            "Requirement already satisfied: numpy>=1.11 in /usr/local/lib/python3.8/dist-packages (from matplotlib==3.2.2->outlier-detection) (1.21.6)\n",
            "Requirement already satisfied: kiwisolver>=1.0.1 in /usr/local/lib/python3.8/dist-packages (from matplotlib==3.2.2->outlier-detection) (1.4.4)\n",
            "Requirement already satisfied: scipy>=1.0 in /usr/local/lib/python3.8/dist-packages (from seaborn==0.11.1->outlier-detection) (1.7.3)\n",
            "Requirement already satisfied: pandas>=0.23 in /usr/local/lib/python3.8/dist-packages (from seaborn==0.11.1->outlier-detection) (1.3.5)\n",
            "Requirement already satisfied: pytz>=2017.3 in /usr/local/lib/python3.8/dist-packages (from pandas>=0.23->seaborn==0.11.1->outlier-detection) (2022.6)\n",
            "Requirement already satisfied: six>=1.5 in /usr/local/lib/python3.8/dist-packages (from python-dateutil>=2.1->matplotlib==3.2.2->outlier-detection) (1.15.0)\n"
          ]
        }
      ]
    },
    {
      "cell_type": "code",
      "source": [
        "# Detect outliers using Interquartile Range (IQR) Method\n",
        "detect_outliers_using_iqr(cab_df, 'Price Charged') # on overall data\n",
        "detect_outliers_using_iqr(cab_df, 'Price Charged', is_factor=True, factor='Company') # check the outliers of 'Price Charged' by taking company as the factor "
      ],
      "metadata": {
        "colab": {
          "base_uri": "https://localhost:8080/",
          "height": 1000
        },
        "id": "2SHn2WJ6nd20",
        "outputId": "48b31d97-2c8d-4993-a496-5d3fa56355c5"
      },
      "id": "2SHn2WJ6nd20",
      "execution_count": 138,
      "outputs": [
        {
          "output_type": "stream",
          "name": "stdout",
          "text": [
            "Lower Bound Threshold: -359.39625\n",
            "Upper Bound Threshold: 1149.49375\n",
            "No. of Observation beyond lower bound: 0\n",
            "No. of Observation beyond upper bound: 5958\n",
            "No. of Observation between upper and lower bound: 353434\n",
            "Ratio of Outliers for target variable: 2.0%\n"
          ]
        },
        {
          "output_type": "display_data",
          "data": {
            "text/plain": [
              "<Figure size 432x288 with 1 Axes>"
            ],
            "image/png": "[encoded data removed]"
          },
          "metadata": {
            "needs_background": "light"
          }
        },
        {
          "output_type": "stream",
          "name": "stdout",
          "text": [
            "\n",
            "Factor: Pink Cab\n",
            "Lower Bound Threshold: -262.3325\n",
            "Upper Bound Threshold: 863.8074999999999\n",
            "No. of Observation beyond lower bound: 0\n",
            "No. of Observation beyond upper bound: 237\n",
            "No. of Observation between upper and lower bound: 84474\n",
            "Ratio of Outliers for target variable Pink Cab: 0.0%\n",
            "\n",
            "Factor: Yellow Cab\n",
            "Lower Bound Threshold: -384.11999999999995\n",
            "Upper Bound Threshold: 1244.6799999999998\n",
            "No. of Observation beyond lower bound: 0\n",
            "No. of Observation beyond upper bound: 3240\n",
            "No. of Observation between upper and lower bound: 271441\n",
            "Ratio of Outliers for target variable Yellow Cab: 1.0%\n"
          ]
        },
        {
          "output_type": "display_data",
          "data": {
            "text/plain": [
              "<Figure size 720x360 with 1 Axes>"
            ],
            "image/png": "[encoded data removed]"
          },
          "metadata": {
            "needs_background": "light"
          }
        }
      ]
    },
    {
      "cell_type": "markdown",
      "source": [
        "## Data format checking\n",
        "\n",
        "The **'Date of Travel'** column seems in wrong format. The date range should from 31/01/2016 to 31/12/2018."
      ],
      "metadata": {
        "id": "GV9gYivEzNej"
      },
      "id": "GV9gYivEzNej"
    },
    {
      "cell_type": "code",
      "source": [
        "min_val = cab_df[\"Date of Travel\"].min() \n",
        "print(min_val)\n",
        "max_val = cab_df[\"Date of Travel\"].max() \n",
        "print(max_val)"
      ],
      "metadata": {
        "colab": {
          "base_uri": "https://localhost:8080/"
        },
        "id": "fROETgjiqi38",
        "outputId": "7d45fa4b-c543-4daf-d63a-156d7e268861"
      },
      "id": "fROETgjiqi38",
      "execution_count": 139,
      "outputs": [
        {
          "output_type": "stream",
          "name": "stdout",
          "text": [
            "42371\n",
            "43465\n"
          ]
        }
      ]
    },
    {
      "cell_type": "markdown",
      "source": [
        "In order to make 'min_val' 'and max_val' represent year 2016 and 2018. Assume the start date is from 01/01/1900.\n",
        "Then the valid date can be computed by start date + **'Date of Travel'**"
      ],
      "metadata": {
        "id": "S4I58G_f0NVf"
      },
      "id": "S4I58G_f0NVf"
    },
    {
      "cell_type": "code",
      "execution_count": 140,
      "id": "7295a11c",
      "metadata": {
        "scrolled": true,
        "id": "7295a11c"
      },
      "outputs": [],
      "source": [
        "from datetime import date, timedelta, datetime\n",
        "\n",
        "\n",
        "cab_df['Year'] = cab_df['Date of Travel'].apply(lambda x: (date(1900, 1, 1) + timedelta(x)).strftime(\"%Y\"))\n",
        "cab_df['Month'] = cab_df['Date of Travel'].apply(lambda x: (date(1900, 1, 1) + timedelta(x)).strftime(\"%m\"))\n",
        "cab_df['Date of Travel'] = cab_df['Date of Travel'].apply(lambda x: (date(1900, 1, 1) + timedelta(x)).strftime(\"%Y-%m-%d\"))\n",
        "\n",
        "col_year = cab_df.pop('Year')\n",
        "col_month = cab_df.pop('Month')\n",
        "cab_df.insert(2, col_year.name, col_year)\n",
        "cab_df.insert(3, col_month.name, col_month)\n"
      ]
    },
    {
      "cell_type": "code",
      "source": [
        "cab_df.head()"
      ],
      "metadata": {
        "colab": {
          "base_uri": "https://localhost:8080/",
          "height": 206
        },
        "id": "E510rolDzVGK",
        "outputId": "55df26fd-0f36-4897-e7ff-4667929ca15e"
      },
      "id": "E510rolDzVGK",
      "execution_count": 141,
      "outputs": [
        {
          "output_type": "execute_result",
          "data": {
            "text/plain": [
              "   Transaction ID Date of Travel  Year Month   Company        City  \\\n",
              "0        10000011     2016-01-10  2016    01  Pink Cab  ATLANTA GA   \n",
              "1        10000012     2016-01-08  2016    01  Pink Cab  ATLANTA GA   \n",
              "2        10000013     2016-01-04  2016    01  Pink Cab  ATLANTA GA   \n",
              "3        10000014     2016-01-09  2016    01  Pink Cab  ATLANTA GA   \n",
              "4        10000015     2016-01-05  2016    01  Pink Cab  ATLANTA GA   \n",
              "\n",
              "   KM Travelled  Price Charged  Cost of Trip  \n",
              "0         30.45         370.95       313.635  \n",
              "1         28.62         358.52       334.854  \n",
              "2          9.04         125.20        97.632  \n",
              "3         33.17         377.40       351.602  \n",
              "4          8.73         114.62        97.776  "
            ],
            "text/html": [
              "\n",
              "  <div id=\"df-c652fa6b-6180-4e4e-aa1e-2fd6f9746154\">\n",
              "    <div class=\"colab-df-container\">\n",
              "      <div>\n",
              "<style scoped>\n",
              "    .dataframe tbody tr th:only-of-type {\n",
              "        vertical-align: middle;\n",
              "    }\n",
              "\n",
              "    .dataframe tbody tr th {\n",
              "        vertical-align: top;\n",
              "    }\n",
              "\n",
              "    .dataframe thead th {\n",
              "        text-align: right;\n",
              "    }\n",
              "</style>\n",
              "<table border=\"1\" class=\"dataframe\">\n",
              "  <thead>\n",
              "    <tr style=\"text-align: right;\">\n",
              "      <th></th>\n",
              "      <th>Transaction ID</th>\n",
              "      <th>Date of Travel</th>\n",
              "      <th>Year</th>\n",
              "      <th>Month</th>\n",
              "      <th>Company</th>\n",
              "      <th>City</th>\n",
              "      <th>KM Travelled</th>\n",
              "      <th>Price Charged</th>\n",
              "      <th>Cost of Trip</th>\n",
              "    </tr>\n",
              "  </thead>\n",
              "  <tbody>\n",
              "    <tr>\n",
              "      <th>0</th>\n",
              "      <td>10000011</td>\n",
              "      <td>2016-01-10</td>\n",
              "      <td>2016</td>\n",
              "      <td>01</td>\n",
              "      <td>Pink Cab</td>\n",
              "      <td>ATLANTA GA</td>\n",
              "      <td>30.45</td>\n",
              "      <td>370.95</td>\n",
              "      <td>313.635</td>\n",
              "    </tr>\n",
              "    <tr>\n",
              "      <th>1</th>\n",
              "      <td>10000012</td>\n",
              "      <td>2016-01-08</td>\n",
              "      <td>2016</td>\n",
              "      <td>01</td>\n",
              "      <td>Pink Cab</td>\n",
              "      <td>ATLANTA GA</td>\n",
              "      <td>28.62</td>\n",
              "      <td>358.52</td>\n",
              "      <td>334.854</td>\n",
              "    </tr>\n",
              "    <tr>\n",
              "      <th>2</th>\n",
              "      <td>10000013</td>\n",
              "      <td>2016-01-04</td>\n",
              "      <td>2016</td>\n",
              "      <td>01</td>\n",
              "      <td>Pink Cab</td>\n",
              "      <td>ATLANTA GA</td>\n",
              "      <td>9.04</td>\n",
              "      <td>125.20</td>\n",
              "      <td>97.632</td>\n",
              "    </tr>\n",
              "    <tr>\n",
              "      <th>3</th>\n",
              "      <td>10000014</td>\n",
              "      <td>2016-01-09</td>\n",
              "      <td>2016</td>\n",
              "      <td>01</td>\n",
              "      <td>Pink Cab</td>\n",
              "      <td>ATLANTA GA</td>\n",
              "      <td>33.17</td>\n",
              "      <td>377.40</td>\n",
              "      <td>351.602</td>\n",
              "    </tr>\n",
              "    <tr>\n",
              "      <th>4</th>\n",
              "      <td>10000015</td>\n",
              "      <td>2016-01-05</td>\n",
              "      <td>2016</td>\n",
              "      <td>01</td>\n",
              "      <td>Pink Cab</td>\n",
              "      <td>ATLANTA GA</td>\n",
              "      <td>8.73</td>\n",
              "      <td>114.62</td>\n",
              "      <td>97.776</td>\n",
              "    </tr>\n",
              "  </tbody>\n",
              "</table>\n",
              "</div>\n",
              "      <button class=\"colab-df-convert\" onclick=\"convertToInteractive('df-c652fa6b-6180-4e4e-aa1e-2fd6f9746154')\"\n",
              "              title=\"Convert this dataframe to an interactive table.\"\n",
              "              style=\"display:none;\">\n",
              "        \n",
              "  <svg xmlns=\"http://www.w3.org/2000/svg\" height=\"24px\"viewBox=\"0 0 24 24\"\n",
              "       width=\"24px\">\n",
              "    <path d=\"M0 0h24v24H0V0z\" fill=\"none\"/>\n",
              "    <path d=\"M18.56 5.44l.94 2.06.94-2.06 2.06-.94-2.06-.94-.94-2.06-.94 2.06-2.06.94zm-11 1L8.5 8.5l.94-2.06 2.06-.94-2.06-.94L8.5 2.5l-.94 2.06-2.06.94zm10 10l.94 2.06.94-2.06 2.06-.94-2.06-.94-.94-2.06-.94 2.06-2.06.94z\"/><path d=\"M17.41 7.96l-1.37-1.37c-.4-.4-.92-.59-1.43-.59-.52 0-1.04.2-1.43.59L10.3 9.45l-7.72 7.72c-.78.78-.78 2.05 0 2.83L4 21.41c.39.39.9.59 1.41.59.51 0 1.02-.2 1.41-.59l7.78-7.78 2.81-2.81c.8-.78.8-2.07 0-2.86zM5.41 20L4 18.59l7.72-7.72 1.47 1.35L5.41 20z\"/>\n",
              "  </svg>\n",
              "      </button>\n",
              "      \n",
              "  <style>\n",
              "    .colab-df-container {\n",
              "      display:flex;\n",
              "      flex-wrap:wrap;\n",
              "      gap: 12px;\n",
              "    }\n",
              "\n",
              "    .colab-df-convert {\n",
              "      background-color: #E8F0FE;\n",
              "      border: none;\n",
              "      border-radius: 50%;\n",
              "      cursor: pointer;\n",
              "      display: none;\n",
              "      fill: #1967D2;\n",
              "      height: 32px;\n",
              "      padding: 0 0 0 0;\n",
              "      width: 32px;\n",
              "    }\n",
              "\n",
              "    .colab-df-convert:hover {\n",
              "      background-color: #E2EBFA;\n",
              "      box-shadow: 0px 1px 2px rgba(60, 64, 67, 0.3), 0px 1px 3px 1px rgba(60, 64, 67, 0.15);\n",
              "      fill: #174EA6;\n",
              "    }\n",
              "\n",
              "    [theme=dark] .colab-df-convert {\n",
              "      background-color: #3B4455;\n",
              "      fill: #D2E3FC;\n",
              "    }\n",
              "\n",
              "    [theme=dark] .colab-df-convert:hover {\n",
              "      background-color: #434B5C;\n",
              "      box-shadow: 0px 1px 3px 1px rgba(0, 0, 0, 0.15);\n",
              "      filter: drop-shadow(0px 1px 2px rgba(0, 0, 0, 0.3));\n",
              "      fill: #FFFFFF;\n",
              "    }\n",
              "  </style>\n",
              "\n",
              "      <script>\n",
              "        const buttonEl =\n",
              "          document.querySelector('#df-c652fa6b-6180-4e4e-aa1e-2fd6f9746154 button.colab-df-convert');\n",
              "        buttonEl.style.display =\n",
              "          google.colab.kernel.accessAllowed ? 'block' : 'none';\n",
              "\n",
              "        async function convertToInteractive(key) {\n",
              "          const element = document.querySelector('#df-c652fa6b-6180-4e4e-aa1e-2fd6f9746154');\n",
              "          const dataTable =\n",
              "            await google.colab.kernel.invokeFunction('convertToInteractive',\n",
              "                                                     [key], {});\n",
              "          if (!dataTable) return;\n",
              "\n",
              "          const docLinkHtml = 'Like what you see? Visit the ' +\n",
              "            '<a target=\"_blank\" href=https://colab.research.google.com/notebooks/data_table.ipynb>data table notebook</a>'\n",
              "            + ' to learn more about interactive tables.';\n",
              "          element.innerHTML = '';\n",
              "          dataTable['output_type'] = 'display_data';\n",
              "          await google.colab.output.renderOutput(dataTable, element);\n",
              "          const docLink = document.createElement('div');\n",
              "          docLink.innerHTML = docLinkHtml;\n",
              "          element.appendChild(docLink);\n",
              "        }\n",
              "      </script>\n",
              "    </div>\n",
              "  </div>\n",
              "  "
            ]
          },
          "metadata": {},
          "execution_count": 141
        }
      ]
    },
    {
      "cell_type": "markdown",
      "id": "79f0330a",
      "metadata": {
        "id": "79f0330a"
      },
      "source": [
        "## Identify relationships and merge Data\n",
        "\n",
        "There are common columns **'City'**, **'Transaction ID'** and **'Customer ID'** among 'cab_df', 'city_df', 'transaction_df' and 'customer_df'. \n",
        "It is necessary to merge those three dataframe together.\n"
      ]
    },
    {
      "cell_type": "code",
      "execution_count": 142,
      "id": "a3340327",
      "metadata": {
        "scrolled": true,
        "id": "a3340327"
      },
      "outputs": [],
      "source": [
        "cab_merged = pd.merge(cab_df, city_df, how='left', on='City')\n",
        "cab_merged = pd.merge(cab_merged, transaction_df, how='left', on='Transaction ID')\n",
        "cab_merged = pd.merge(cab_merged, customer_df, how='left', on='Customer ID')\n"
      ]
    },
    {
      "cell_type": "code",
      "source": [
        "cab_merged.head()"
      ],
      "metadata": {
        "colab": {
          "base_uri": "https://localhost:8080/",
          "height": 206
        },
        "id": "NTXnTW94gldU",
        "outputId": "e8fb88b0-32c5-4fac-cdcd-f37f62102300"
      },
      "id": "NTXnTW94gldU",
      "execution_count": 143,
      "outputs": [
        {
          "output_type": "execute_result",
          "data": {
            "text/plain": [
              "   Transaction ID Date of Travel  Year Month   Company        City  \\\n",
              "0        10000011     2016-01-10  2016    01  Pink Cab  ATLANTA GA   \n",
              "1        10000012     2016-01-08  2016    01  Pink Cab  ATLANTA GA   \n",
              "2        10000013     2016-01-04  2016    01  Pink Cab  ATLANTA GA   \n",
              "3        10000014     2016-01-09  2016    01  Pink Cab  ATLANTA GA   \n",
              "4        10000015     2016-01-05  2016    01  Pink Cab  ATLANTA GA   \n",
              "\n",
              "   KM Travelled  Price Charged  Cost of Trip Population     Users  \\\n",
              "0         30.45         370.95       313.635   814,885    24,701    \n",
              "1         28.62         358.52       334.854   814,885    24,701    \n",
              "2          9.04         125.20        97.632   814,885    24,701    \n",
              "3         33.17         377.40       351.602   814,885    24,701    \n",
              "4          8.73         114.62        97.776   814,885    24,701    \n",
              "\n",
              "   Customer ID Payment_Mode Gender  Age  Income (USD/Month)  \n",
              "0        29290         Card   Male   28               10813  \n",
              "1        27703         Card   Male   27                9237  \n",
              "2        28712         Cash   Male   53               11242  \n",
              "3        28020         Cash   Male   23               23327  \n",
              "4        27182         Card   Male   33                8536  "
            ],
            "text/html": [
              "\n",
              "  <div id=\"df-b36961e4-bdfe-4924-a120-d0b8cba4f0f7\">\n",
              "    <div class=\"colab-df-container\">\n",
              "      <div>\n",
              "<style scoped>\n",
              "    .dataframe tbody tr th:only-of-type {\n",
              "        vertical-align: middle;\n",
              "    }\n",
              "\n",
              "    .dataframe tbody tr th {\n",
              "        vertical-align: top;\n",
              "    }\n",
              "\n",
              "    .dataframe thead th {\n",
              "        text-align: right;\n",
              "    }\n",
              "</style>\n",
              "<table border=\"1\" class=\"dataframe\">\n",
              "  <thead>\n",
              "    <tr style=\"text-align: right;\">\n",
              "      <th></th>\n",
              "      <th>Transaction ID</th>\n",
              "      <th>Date of Travel</th>\n",
              "      <th>Year</th>\n",
              "      <th>Month</th>\n",
              "      <th>Company</th>\n",
              "      <th>City</th>\n",
              "      <th>KM Travelled</th>\n",
              "      <th>Price Charged</th>\n",
              "      <th>Cost of Trip</th>\n",
              "      <th>Population</th>\n",
              "      <th>Users</th>\n",
              "      <th>Customer ID</th>\n",
              "      <th>Payment_Mode</th>\n",
              "      <th>Gender</th>\n",
              "      <th>Age</th>\n",
              "      <th>Income (USD/Month)</th>\n",
              "    </tr>\n",
              "  </thead>\n",
              "  <tbody>\n",
              "    <tr>\n",
              "      <th>0</th>\n",
              "      <td>10000011</td>\n",
              "      <td>2016-01-10</td>\n",
              "      <td>2016</td>\n",
              "      <td>01</td>\n",
              "      <td>Pink Cab</td>\n",
              "      <td>ATLANTA GA</td>\n",
              "      <td>30.45</td>\n",
              "      <td>370.95</td>\n",
              "      <td>313.635</td>\n",
              "      <td>814,885</td>\n",
              "      <td>24,701</td>\n",
              "      <td>29290</td>\n",
              "      <td>Card</td>\n",
              "      <td>Male</td>\n",
              "      <td>28</td>\n",
              "      <td>10813</td>\n",
              "    </tr>\n",
              "    <tr>\n",
              "      <th>1</th>\n",
              "      <td>10000012</td>\n",
              "      <td>2016-01-08</td>\n",
              "      <td>2016</td>\n",
              "      <td>01</td>\n",
              "      <td>Pink Cab</td>\n",
              "      <td>ATLANTA GA</td>\n",
              "      <td>28.62</td>\n",
              "      <td>358.52</td>\n",
              "      <td>334.854</td>\n",
              "      <td>814,885</td>\n",
              "      <td>24,701</td>\n",
              "      <td>27703</td>\n",
              "      <td>Card</td>\n",
              "      <td>Male</td>\n",
              "      <td>27</td>\n",
              "      <td>9237</td>\n",
              "    </tr>\n",
              "    <tr>\n",
              "      <th>2</th>\n",
              "      <td>10000013</td>\n",
              "      <td>2016-01-04</td>\n",
              "      <td>2016</td>\n",
              "      <td>01</td>\n",
              "      <td>Pink Cab</td>\n",
              "      <td>ATLANTA GA</td>\n",
              "      <td>9.04</td>\n",
              "      <td>125.20</td>\n",
              "      <td>97.632</td>\n",
              "      <td>814,885</td>\n",
              "      <td>24,701</td>\n",
              "      <td>28712</td>\n",
              "      <td>Cash</td>\n",
              "      <td>Male</td>\n",
              "      <td>53</td>\n",
              "      <td>11242</td>\n",
              "    </tr>\n",
              "    <tr>\n",
              "      <th>3</th>\n",
              "      <td>10000014</td>\n",
              "      <td>2016-01-09</td>\n",
              "      <td>2016</td>\n",
              "      <td>01</td>\n",
              "      <td>Pink Cab</td>\n",
              "      <td>ATLANTA GA</td>\n",
              "      <td>33.17</td>\n",
              "      <td>377.40</td>\n",
              "      <td>351.602</td>\n",
              "      <td>814,885</td>\n",
              "      <td>24,701</td>\n",
              "      <td>28020</td>\n",
              "      <td>Cash</td>\n",
              "      <td>Male</td>\n",
              "      <td>23</td>\n",
              "      <td>23327</td>\n",
              "    </tr>\n",
              "    <tr>\n",
              "      <th>4</th>\n",
              "      <td>10000015</td>\n",
              "      <td>2016-01-05</td>\n",
              "      <td>2016</td>\n",
              "      <td>01</td>\n",
              "      <td>Pink Cab</td>\n",
              "      <td>ATLANTA GA</td>\n",
              "      <td>8.73</td>\n",
              "      <td>114.62</td>\n",
              "      <td>97.776</td>\n",
              "      <td>814,885</td>\n",
              "      <td>24,701</td>\n",
              "      <td>27182</td>\n",
              "      <td>Card</td>\n",
              "      <td>Male</td>\n",
              "      <td>33</td>\n",
              "      <td>8536</td>\n",
              "    </tr>\n",
              "  </tbody>\n",
              "</table>\n",
              "</div>\n",
              "      <button class=\"colab-df-convert\" onclick=\"convertToInteractive('df-b36961e4-bdfe-4924-a120-d0b8cba4f0f7')\"\n",
              "              title=\"Convert this dataframe to an interactive table.\"\n",
              "              style=\"display:none;\">\n",
              "        \n",
              "  <svg xmlns=\"http://www.w3.org/2000/svg\" height=\"24px\"viewBox=\"0 0 24 24\"\n",
              "       width=\"24px\">\n",
              "    <path d=\"M0 0h24v24H0V0z\" fill=\"none\"/>\n",
              "    <path d=\"M18.56 5.44l.94 2.06.94-2.06 2.06-.94-2.06-.94-.94-2.06-.94 2.06-2.06.94zm-11 1L8.5 8.5l.94-2.06 2.06-.94-2.06-.94L8.5 2.5l-.94 2.06-2.06.94zm10 10l.94 2.06.94-2.06 2.06-.94-2.06-.94-.94-2.06-.94 2.06-2.06.94z\"/><path d=\"M17.41 7.96l-1.37-1.37c-.4-.4-.92-.59-1.43-.59-.52 0-1.04.2-1.43.59L10.3 9.45l-7.72 7.72c-.78.78-.78 2.05 0 2.83L4 21.41c.39.39.9.59 1.41.59.51 0 1.02-.2 1.41-.59l7.78-7.78 2.81-2.81c.8-.78.8-2.07 0-2.86zM5.41 20L4 18.59l7.72-7.72 1.47 1.35L5.41 20z\"/>\n",
              "  </svg>\n",
              "      </button>\n",
              "      \n",
              "  <style>\n",
              "    .colab-df-container {\n",
              "      display:flex;\n",
              "      flex-wrap:wrap;\n",
              "      gap: 12px;\n",
              "    }\n",
              "\n",
              "    .colab-df-convert {\n",
              "      background-color: #E8F0FE;\n",
              "      border: none;\n",
              "      border-radius: 50%;\n",
              "      cursor: pointer;\n",
              "      display: none;\n",
              "      fill: #1967D2;\n",
              "      height: 32px;\n",
              "      padding: 0 0 0 0;\n",
              "      width: 32px;\n",
              "    }\n",
              "\n",
              "    .colab-df-convert:hover {\n",
              "      background-color: #E2EBFA;\n",
              "      box-shadow: 0px 1px 2px rgba(60, 64, 67, 0.3), 0px 1px 3px 1px rgba(60, 64, 67, 0.15);\n",
              "      fill: #174EA6;\n",
              "    }\n",
              "\n",
              "    [theme=dark] .colab-df-convert {\n",
              "      background-color: #3B4455;\n",
              "      fill: #D2E3FC;\n",
              "    }\n",
              "\n",
              "    [theme=dark] .colab-df-convert:hover {\n",
              "      background-color: #434B5C;\n",
              "      box-shadow: 0px 1px 3px 1px rgba(0, 0, 0, 0.15);\n",
              "      filter: drop-shadow(0px 1px 2px rgba(0, 0, 0, 0.3));\n",
              "      fill: #FFFFFF;\n",
              "    }\n",
              "  </style>\n",
              "\n",
              "      <script>\n",
              "        const buttonEl =\n",
              "          document.querySelector('#df-b36961e4-bdfe-4924-a120-d0b8cba4f0f7 button.colab-df-convert');\n",
              "        buttonEl.style.display =\n",
              "          google.colab.kernel.accessAllowed ? 'block' : 'none';\n",
              "\n",
              "        async function convertToInteractive(key) {\n",
              "          const element = document.querySelector('#df-b36961e4-bdfe-4924-a120-d0b8cba4f0f7');\n",
              "          const dataTable =\n",
              "            await google.colab.kernel.invokeFunction('convertToInteractive',\n",
              "                                                     [key], {});\n",
              "          if (!dataTable) return;\n",
              "\n",
              "          const docLinkHtml = 'Like what you see? Visit the ' +\n",
              "            '<a target=\"_blank\" href=https://colab.research.google.com/notebooks/data_table.ipynb>data table notebook</a>'\n",
              "            + ' to learn more about interactive tables.';\n",
              "          element.innerHTML = '';\n",
              "          dataTable['output_type'] = 'display_data';\n",
              "          await google.colab.output.renderOutput(dataTable, element);\n",
              "          const docLink = document.createElement('div');\n",
              "          docLink.innerHTML = docLinkHtml;\n",
              "          element.appendChild(docLink);\n",
              "        }\n",
              "      </script>\n",
              "    </div>\n",
              "  </div>\n",
              "  "
            ]
          },
          "metadata": {},
          "execution_count": 143
        }
      ]
    },
    {
      "cell_type": "code",
      "source": [
        "print(cab_merged.groupby(['Payment_Mode']).size())\n",
        "print(cab_merged.groupby(['Gender']).size())\n"
      ],
      "metadata": {
        "colab": {
          "base_uri": "https://localhost:8080/"
        },
        "id": "xZCRxWRRitCp",
        "outputId": "1987c273-c780-4703-d0b8-301be892b0c1"
      },
      "id": "xZCRxWRRitCp",
      "execution_count": 144,
      "outputs": [
        {
          "output_type": "stream",
          "name": "stdout",
          "text": [
            "Payment_Mode\n",
            "Card    215504\n",
            "Cash    143888\n",
            "dtype: int64\n",
            "Gender\n",
            "Female    153480\n",
            "Male      205912\n",
            "dtype: int64\n"
          ]
        }
      ]
    },
    {
      "cell_type": "markdown",
      "source": [
        "The **'Population'** and **'Users'** are in string format. It needs to be converted to numerical numbers."
      ],
      "metadata": {
        "id": "v84_sOKWT45r"
      },
      "id": "v84_sOKWT45r"
    },
    {
      "cell_type": "code",
      "source": [
        "cab_merged['Users'] = cab_merged['Users'].apply(lambda x: int(x.split()[0].replace(',', '')))\n",
        "cab_merged['Population'] = cab_merged['Population'].apply(lambda x: int(x.split()[0].replace(',', '')))\n",
        "\n"
      ],
      "metadata": {
        "id": "5s44QwDDTJpX"
      },
      "id": "5s44QwDDTJpX",
      "execution_count": 145,
      "outputs": []
    },
    {
      "cell_type": "code",
      "source": [
        "cab_merged.head()\n"
      ],
      "metadata": {
        "colab": {
          "base_uri": "https://localhost:8080/",
          "height": 206
        },
        "id": "6fUFim4IUVrd",
        "outputId": "70e45aec-fbe3-423b-9418-37db8e178f19"
      },
      "id": "6fUFim4IUVrd",
      "execution_count": 146,
      "outputs": [
        {
          "output_type": "execute_result",
          "data": {
            "text/plain": [
              "   Transaction ID Date of Travel  Year Month   Company        City  \\\n",
              "0        10000011     2016-01-10  2016    01  Pink Cab  ATLANTA GA   \n",
              "1        10000012     2016-01-08  2016    01  Pink Cab  ATLANTA GA   \n",
              "2        10000013     2016-01-04  2016    01  Pink Cab  ATLANTA GA   \n",
              "3        10000014     2016-01-09  2016    01  Pink Cab  ATLANTA GA   \n",
              "4        10000015     2016-01-05  2016    01  Pink Cab  ATLANTA GA   \n",
              "\n",
              "   KM Travelled  Price Charged  Cost of Trip  Population  Users  Customer ID  \\\n",
              "0         30.45         370.95       313.635      814885  24701        29290   \n",
              "1         28.62         358.52       334.854      814885  24701        27703   \n",
              "2          9.04         125.20        97.632      814885  24701        28712   \n",
              "3         33.17         377.40       351.602      814885  24701        28020   \n",
              "4          8.73         114.62        97.776      814885  24701        27182   \n",
              "\n",
              "  Payment_Mode Gender  Age  Income (USD/Month)  \n",
              "0         Card   Male   28               10813  \n",
              "1         Card   Male   27                9237  \n",
              "2         Cash   Male   53               11242  \n",
              "3         Cash   Male   23               23327  \n",
              "4         Card   Male   33                8536  "
            ],
            "text/html": [
              "\n",
              "  <div id=\"df-1e4cb353-9291-4900-badb-a49a9369d3bd\">\n",
              "    <div class=\"colab-df-container\">\n",
              "      <div>\n",
              "<style scoped>\n",
              "    .dataframe tbody tr th:only-of-type {\n",
              "        vertical-align: middle;\n",
              "    }\n",
              "\n",
              "    .dataframe tbody tr th {\n",
              "        vertical-align: top;\n",
              "    }\n",
              "\n",
              "    .dataframe thead th {\n",
              "        text-align: right;\n",
              "    }\n",
              "</style>\n",
              "<table border=\"1\" class=\"dataframe\">\n",
              "  <thead>\n",
              "    <tr style=\"text-align: right;\">\n",
              "      <th></th>\n",
              "      <th>Transaction ID</th>\n",
              "      <th>Date of Travel</th>\n",
              "      <th>Year</th>\n",
              "      <th>Month</th>\n",
              "      <th>Company</th>\n",
              "      <th>City</th>\n",
              "      <th>KM Travelled</th>\n",
              "      <th>Price Charged</th>\n",
              "      <th>Cost of Trip</th>\n",
              "      <th>Population</th>\n",
              "      <th>Users</th>\n",
              "      <th>Customer ID</th>\n",
              "      <th>Payment_Mode</th>\n",
              "      <th>Gender</th>\n",
              "      <th>Age</th>\n",
              "      <th>Income (USD/Month)</th>\n",
              "    </tr>\n",
              "  </thead>\n",
              "  <tbody>\n",
              "    <tr>\n",
              "      <th>0</th>\n",
              "      <td>10000011</td>\n",
              "      <td>2016-01-10</td>\n",
              "      <td>2016</td>\n",
              "      <td>01</td>\n",
              "      <td>Pink Cab</td>\n",
              "      <td>ATLANTA GA</td>\n",
              "      <td>30.45</td>\n",
              "      <td>370.95</td>\n",
              "      <td>313.635</td>\n",
              "      <td>814885</td>\n",
              "      <td>24701</td>\n",
              "      <td>29290</td>\n",
              "      <td>Card</td>\n",
              "      <td>Male</td>\n",
              "      <td>28</td>\n",
              "      <td>10813</td>\n",
              "    </tr>\n",
              "    <tr>\n",
              "      <th>1</th>\n",
              "      <td>10000012</td>\n",
              "      <td>2016-01-08</td>\n",
              "      <td>2016</td>\n",
              "      <td>01</td>\n",
              "      <td>Pink Cab</td>\n",
              "      <td>ATLANTA GA</td>\n",
              "      <td>28.62</td>\n",
              "      <td>358.52</td>\n",
              "      <td>334.854</td>\n",
              "      <td>814885</td>\n",
              "      <td>24701</td>\n",
              "      <td>27703</td>\n",
              "      <td>Card</td>\n",
              "      <td>Male</td>\n",
              "      <td>27</td>\n",
              "      <td>9237</td>\n",
              "    </tr>\n",
              "    <tr>\n",
              "      <th>2</th>\n",
              "      <td>10000013</td>\n",
              "      <td>2016-01-04</td>\n",
              "      <td>2016</td>\n",
              "      <td>01</td>\n",
              "      <td>Pink Cab</td>\n",
              "      <td>ATLANTA GA</td>\n",
              "      <td>9.04</td>\n",
              "      <td>125.20</td>\n",
              "      <td>97.632</td>\n",
              "      <td>814885</td>\n",
              "      <td>24701</td>\n",
              "      <td>28712</td>\n",
              "      <td>Cash</td>\n",
              "      <td>Male</td>\n",
              "      <td>53</td>\n",
              "      <td>11242</td>\n",
              "    </tr>\n",
              "    <tr>\n",
              "      <th>3</th>\n",
              "      <td>10000014</td>\n",
              "      <td>2016-01-09</td>\n",
              "      <td>2016</td>\n",
              "      <td>01</td>\n",
              "      <td>Pink Cab</td>\n",
              "      <td>ATLANTA GA</td>\n",
              "      <td>33.17</td>\n",
              "      <td>377.40</td>\n",
              "      <td>351.602</td>\n",
              "      <td>814885</td>\n",
              "      <td>24701</td>\n",
              "      <td>28020</td>\n",
              "      <td>Cash</td>\n",
              "      <td>Male</td>\n",
              "      <td>23</td>\n",
              "      <td>23327</td>\n",
              "    </tr>\n",
              "    <tr>\n",
              "      <th>4</th>\n",
              "      <td>10000015</td>\n",
              "      <td>2016-01-05</td>\n",
              "      <td>2016</td>\n",
              "      <td>01</td>\n",
              "      <td>Pink Cab</td>\n",
              "      <td>ATLANTA GA</td>\n",
              "      <td>8.73</td>\n",
              "      <td>114.62</td>\n",
              "      <td>97.776</td>\n",
              "      <td>814885</td>\n",
              "      <td>24701</td>\n",
              "      <td>27182</td>\n",
              "      <td>Card</td>\n",
              "      <td>Male</td>\n",
              "      <td>33</td>\n",
              "      <td>8536</td>\n",
              "    </tr>\n",
              "  </tbody>\n",
              "</table>\n",
              "</div>\n",
              "      <button class=\"colab-df-convert\" onclick=\"convertToInteractive('df-1e4cb353-9291-4900-badb-a49a9369d3bd')\"\n",
              "              title=\"Convert this dataframe to an interactive table.\"\n",
              "              style=\"display:none;\">\n",
              "        \n",
              "  <svg xmlns=\"http://www.w3.org/2000/svg\" height=\"24px\"viewBox=\"0 0 24 24\"\n",
              "       width=\"24px\">\n",
              "    <path d=\"M0 0h24v24H0V0z\" fill=\"none\"/>\n",
              "    <path d=\"M18.56 5.44l.94 2.06.94-2.06 2.06-.94-2.06-.94-.94-2.06-.94 2.06-2.06.94zm-11 1L8.5 8.5l.94-2.06 2.06-.94-2.06-.94L8.5 2.5l-.94 2.06-2.06.94zm10 10l.94 2.06.94-2.06 2.06-.94-2.06-.94-.94-2.06-.94 2.06-2.06.94z\"/><path d=\"M17.41 7.96l-1.37-1.37c-.4-.4-.92-.59-1.43-.59-.52 0-1.04.2-1.43.59L10.3 9.45l-7.72 7.72c-.78.78-.78 2.05 0 2.83L4 21.41c.39.39.9.59 1.41.59.51 0 1.02-.2 1.41-.59l7.78-7.78 2.81-2.81c.8-.78.8-2.07 0-2.86zM5.41 20L4 18.59l7.72-7.72 1.47 1.35L5.41 20z\"/>\n",
              "  </svg>\n",
              "      </button>\n",
              "      \n",
              "  <style>\n",
              "    .colab-df-container {\n",
              "      display:flex;\n",
              "      flex-wrap:wrap;\n",
              "      gap: 12px;\n",
              "    }\n",
              "\n",
              "    .colab-df-convert {\n",
              "      background-color: #E8F0FE;\n",
              "      border: none;\n",
              "      border-radius: 50%;\n",
              "      cursor: pointer;\n",
              "      display: none;\n",
              "      fill: #1967D2;\n",
              "      height: 32px;\n",
              "      padding: 0 0 0 0;\n",
              "      width: 32px;\n",
              "    }\n",
              "\n",
              "    .colab-df-convert:hover {\n",
              "      background-color: #E2EBFA;\n",
              "      box-shadow: 0px 1px 2px rgba(60, 64, 67, 0.3), 0px 1px 3px 1px rgba(60, 64, 67, 0.15);\n",
              "      fill: #174EA6;\n",
              "    }\n",
              "\n",
              "    [theme=dark] .colab-df-convert {\n",
              "      background-color: #3B4455;\n",
              "      fill: #D2E3FC;\n",
              "    }\n",
              "\n",
              "    [theme=dark] .colab-df-convert:hover {\n",
              "      background-color: #434B5C;\n",
              "      box-shadow: 0px 1px 3px 1px rgba(0, 0, 0, 0.15);\n",
              "      filter: drop-shadow(0px 1px 2px rgba(0, 0, 0, 0.3));\n",
              "      fill: #FFFFFF;\n",
              "    }\n",
              "  </style>\n",
              "\n",
              "      <script>\n",
              "        const buttonEl =\n",
              "          document.querySelector('#df-1e4cb353-9291-4900-badb-a49a9369d3bd button.colab-df-convert');\n",
              "        buttonEl.style.display =\n",
              "          google.colab.kernel.accessAllowed ? 'block' : 'none';\n",
              "\n",
              "        async function convertToInteractive(key) {\n",
              "          const element = document.querySelector('#df-1e4cb353-9291-4900-badb-a49a9369d3bd');\n",
              "          const dataTable =\n",
              "            await google.colab.kernel.invokeFunction('convertToInteractive',\n",
              "                                                     [key], {});\n",
              "          if (!dataTable) return;\n",
              "\n",
              "          const docLinkHtml = 'Like what you see? Visit the ' +\n",
              "            '<a target=\"_blank\" href=https://colab.research.google.com/notebooks/data_table.ipynb>data table notebook</a>'\n",
              "            + ' to learn more about interactive tables.';\n",
              "          element.innerHTML = '';\n",
              "          dataTable['output_type'] = 'display_data';\n",
              "          await google.colab.output.renderOutput(dataTable, element);\n",
              "          const docLink = document.createElement('div');\n",
              "          docLink.innerHTML = docLinkHtml;\n",
              "          element.appendChild(docLink);\n",
              "        }\n",
              "      </script>\n",
              "    </div>\n",
              "  </div>\n",
              "  "
            ]
          },
          "metadata": {},
          "execution_count": 146
        }
      ]
    },
    {
      "cell_type": "markdown",
      "id": "79b2490e",
      "metadata": {
        "id": "79b2490e"
      },
      "source": [
        "It is good to know the profit that company made in each ride.\n",
        "**Profit** column is created and added into dataframe by subtracting the **Cost of Trip** from the **Price Charged**."
      ]
    },
    {
      "cell_type": "code",
      "execution_count": 147,
      "id": "72933e22",
      "metadata": {
        "scrolled": true,
        "colab": {
          "base_uri": "https://localhost:8080/",
          "height": 206
        },
        "id": "72933e22",
        "outputId": "c8b744f2-b7f0-4a35-861a-07c076548abd"
      },
      "outputs": [
        {
          "output_type": "execute_result",
          "data": {
            "text/plain": [
              "   Transaction ID Date of Travel  Year Month   Company        City  \\\n",
              "0        10000011     2016-01-10  2016    01  Pink Cab  ATLANTA GA   \n",
              "1        10000012     2016-01-08  2016    01  Pink Cab  ATLANTA GA   \n",
              "2        10000013     2016-01-04  2016    01  Pink Cab  ATLANTA GA   \n",
              "3        10000014     2016-01-09  2016    01  Pink Cab  ATLANTA GA   \n",
              "4        10000015     2016-01-05  2016    01  Pink Cab  ATLANTA GA   \n",
              "\n",
              "   KM Travelled  Price Charged  Cost of Trip  Profit  Population  Users  \\\n",
              "0         30.45         370.95       313.635  57.315      814885  24701   \n",
              "1         28.62         358.52       334.854  23.666      814885  24701   \n",
              "2          9.04         125.20        97.632  27.568      814885  24701   \n",
              "3         33.17         377.40       351.602  25.798      814885  24701   \n",
              "4          8.73         114.62        97.776  16.844      814885  24701   \n",
              "\n",
              "   Customer ID Payment_Mode Gender  Age  Income (USD/Month)  \n",
              "0        29290         Card   Male   28               10813  \n",
              "1        27703         Card   Male   27                9237  \n",
              "2        28712         Cash   Male   53               11242  \n",
              "3        28020         Cash   Male   23               23327  \n",
              "4        27182         Card   Male   33                8536  "
            ],
            "text/html": [
              "\n",
              "  <div id=\"df-5946e288-4e74-4032-89d0-455568caaa47\">\n",
              "    <div class=\"colab-df-container\">\n",
              "      <div>\n",
              "<style scoped>\n",
              "    .dataframe tbody tr th:only-of-type {\n",
              "        vertical-align: middle;\n",
              "    }\n",
              "\n",
              "    .dataframe tbody tr th {\n",
              "        vertical-align: top;\n",
              "    }\n",
              "\n",
              "    .dataframe thead th {\n",
              "        text-align: right;\n",
              "    }\n",
              "</style>\n",
              "<table border=\"1\" class=\"dataframe\">\n",
              "  <thead>\n",
              "    <tr style=\"text-align: right;\">\n",
              "      <th></th>\n",
              "      <th>Transaction ID</th>\n",
              "      <th>Date of Travel</th>\n",
              "      <th>Year</th>\n",
              "      <th>Month</th>\n",
              "      <th>Company</th>\n",
              "      <th>City</th>\n",
              "      <th>KM Travelled</th>\n",
              "      <th>Price Charged</th>\n",
              "      <th>Cost of Trip</th>\n",
              "      <th>Profit</th>\n",
              "      <th>Population</th>\n",
              "      <th>Users</th>\n",
              "      <th>Customer ID</th>\n",
              "      <th>Payment_Mode</th>\n",
              "      <th>Gender</th>\n",
              "      <th>Age</th>\n",
              "      <th>Income (USD/Month)</th>\n",
              "    </tr>\n",
              "  </thead>\n",
              "  <tbody>\n",
              "    <tr>\n",
              "      <th>0</th>\n",
              "      <td>10000011</td>\n",
              "      <td>2016-01-10</td>\n",
              "      <td>2016</td>\n",
              "      <td>01</td>\n",
              "      <td>Pink Cab</td>\n",
              "      <td>ATLANTA GA</td>\n",
              "      <td>30.45</td>\n",
              "      <td>370.95</td>\n",
              "      <td>313.635</td>\n",
              "      <td>57.315</td>\n",
              "      <td>814885</td>\n",
              "      <td>24701</td>\n",
              "      <td>29290</td>\n",
              "      <td>Card</td>\n",
              "      <td>Male</td>\n",
              "      <td>28</td>\n",
              "      <td>10813</td>\n",
              "    </tr>\n",
              "    <tr>\n",
              "      <th>1</th>\n",
              "      <td>10000012</td>\n",
              "      <td>2016-01-08</td>\n",
              "      <td>2016</td>\n",
              "      <td>01</td>\n",
              "      <td>Pink Cab</td>\n",
              "      <td>ATLANTA GA</td>\n",
              "      <td>28.62</td>\n",
              "      <td>358.52</td>\n",
              "      <td>334.854</td>\n",
              "      <td>23.666</td>\n",
              "      <td>814885</td>\n",
              "      <td>24701</td>\n",
              "      <td>27703</td>\n",
              "      <td>Card</td>\n",
              "      <td>Male</td>\n",
              "      <td>27</td>\n",
              "      <td>9237</td>\n",
              "    </tr>\n",
              "    <tr>\n",
              "      <th>2</th>\n",
              "      <td>10000013</td>\n",
              "      <td>2016-01-04</td>\n",
              "      <td>2016</td>\n",
              "      <td>01</td>\n",
              "      <td>Pink Cab</td>\n",
              "      <td>ATLANTA GA</td>\n",
              "      <td>9.04</td>\n",
              "      <td>125.20</td>\n",
              "      <td>97.632</td>\n",
              "      <td>27.568</td>\n",
              "      <td>814885</td>\n",
              "      <td>24701</td>\n",
              "      <td>28712</td>\n",
              "      <td>Cash</td>\n",
              "      <td>Male</td>\n",
              "      <td>53</td>\n",
              "      <td>11242</td>\n",
              "    </tr>\n",
              "    <tr>\n",
              "      <th>3</th>\n",
              "      <td>10000014</td>\n",
              "      <td>2016-01-09</td>\n",
              "      <td>2016</td>\n",
              "      <td>01</td>\n",
              "      <td>Pink Cab</td>\n",
              "      <td>ATLANTA GA</td>\n",
              "      <td>33.17</td>\n",
              "      <td>377.40</td>\n",
              "      <td>351.602</td>\n",
              "      <td>25.798</td>\n",
              "      <td>814885</td>\n",
              "      <td>24701</td>\n",
              "      <td>28020</td>\n",
              "      <td>Cash</td>\n",
              "      <td>Male</td>\n",
              "      <td>23</td>\n",
              "      <td>23327</td>\n",
              "    </tr>\n",
              "    <tr>\n",
              "      <th>4</th>\n",
              "      <td>10000015</td>\n",
              "      <td>2016-01-05</td>\n",
              "      <td>2016</td>\n",
              "      <td>01</td>\n",
              "      <td>Pink Cab</td>\n",
              "      <td>ATLANTA GA</td>\n",
              "      <td>8.73</td>\n",
              "      <td>114.62</td>\n",
              "      <td>97.776</td>\n",
              "      <td>16.844</td>\n",
              "      <td>814885</td>\n",
              "      <td>24701</td>\n",
              "      <td>27182</td>\n",
              "      <td>Card</td>\n",
              "      <td>Male</td>\n",
              "      <td>33</td>\n",
              "      <td>8536</td>\n",
              "    </tr>\n",
              "  </tbody>\n",
              "</table>\n",
              "</div>\n",
              "      <button class=\"colab-df-convert\" onclick=\"convertToInteractive('df-5946e288-4e74-4032-89d0-455568caaa47')\"\n",
              "              title=\"Convert this dataframe to an interactive table.\"\n",
              "              style=\"display:none;\">\n",
              "        \n",
              "  <svg xmlns=\"http://www.w3.org/2000/svg\" height=\"24px\"viewBox=\"0 0 24 24\"\n",
              "       width=\"24px\">\n",
              "    <path d=\"M0 0h24v24H0V0z\" fill=\"none\"/>\n",
              "    <path d=\"M18.56 5.44l.94 2.06.94-2.06 2.06-.94-2.06-.94-.94-2.06-.94 2.06-2.06.94zm-11 1L8.5 8.5l.94-2.06 2.06-.94-2.06-.94L8.5 2.5l-.94 2.06-2.06.94zm10 10l.94 2.06.94-2.06 2.06-.94-2.06-.94-.94-2.06-.94 2.06-2.06.94z\"/><path d=\"M17.41 7.96l-1.37-1.37c-.4-.4-.92-.59-1.43-.59-.52 0-1.04.2-1.43.59L10.3 9.45l-7.72 7.72c-.78.78-.78 2.05 0 2.83L4 21.41c.39.39.9.59 1.41.59.51 0 1.02-.2 1.41-.59l7.78-7.78 2.81-2.81c.8-.78.8-2.07 0-2.86zM5.41 20L4 18.59l7.72-7.72 1.47 1.35L5.41 20z\"/>\n",
              "  </svg>\n",
              "      </button>\n",
              "      \n",
              "  <style>\n",
              "    .colab-df-container {\n",
              "      display:flex;\n",
              "      flex-wrap:wrap;\n",
              "      gap: 12px;\n",
              "    }\n",
              "\n",
              "    .colab-df-convert {\n",
              "      background-color: #E8F0FE;\n",
              "      border: none;\n",
              "      border-radius: 50%;\n",
              "      cursor: pointer;\n",
              "      display: none;\n",
              "      fill: #1967D2;\n",
              "      height: 32px;\n",
              "      padding: 0 0 0 0;\n",
              "      width: 32px;\n",
              "    }\n",
              "\n",
              "    .colab-df-convert:hover {\n",
              "      background-color: #E2EBFA;\n",
              "      box-shadow: 0px 1px 2px rgba(60, 64, 67, 0.3), 0px 1px 3px 1px rgba(60, 64, 67, 0.15);\n",
              "      fill: #174EA6;\n",
              "    }\n",
              "\n",
              "    [theme=dark] .colab-df-convert {\n",
              "      background-color: #3B4455;\n",
              "      fill: #D2E3FC;\n",
              "    }\n",
              "\n",
              "    [theme=dark] .colab-df-convert:hover {\n",
              "      background-color: #434B5C;\n",
              "      box-shadow: 0px 1px 3px 1px rgba(0, 0, 0, 0.15);\n",
              "      filter: drop-shadow(0px 1px 2px rgba(0, 0, 0, 0.3));\n",
              "      fill: #FFFFFF;\n",
              "    }\n",
              "  </style>\n",
              "\n",
              "      <script>\n",
              "        const buttonEl =\n",
              "          document.querySelector('#df-5946e288-4e74-4032-89d0-455568caaa47 button.colab-df-convert');\n",
              "        buttonEl.style.display =\n",
              "          google.colab.kernel.accessAllowed ? 'block' : 'none';\n",
              "\n",
              "        async function convertToInteractive(key) {\n",
              "          const element = document.querySelector('#df-5946e288-4e74-4032-89d0-455568caaa47');\n",
              "          const dataTable =\n",
              "            await google.colab.kernel.invokeFunction('convertToInteractive',\n",
              "                                                     [key], {});\n",
              "          if (!dataTable) return;\n",
              "\n",
              "          const docLinkHtml = 'Like what you see? Visit the ' +\n",
              "            '<a target=\"_blank\" href=https://colab.research.google.com/notebooks/data_table.ipynb>data table notebook</a>'\n",
              "            + ' to learn more about interactive tables.';\n",
              "          element.innerHTML = '';\n",
              "          dataTable['output_type'] = 'display_data';\n",
              "          await google.colab.output.renderOutput(dataTable, element);\n",
              "          const docLink = document.createElement('div');\n",
              "          docLink.innerHTML = docLinkHtml;\n",
              "          element.appendChild(docLink);\n",
              "        }\n",
              "      </script>\n",
              "    </div>\n",
              "  </div>\n",
              "  "
            ]
          },
          "metadata": {},
          "execution_count": 147
        }
      ],
      "source": [
        "profit = cab_merged['Price Charged'] - cab_merged['Cost of Trip']\n",
        "cab_merged.insert(9, 'Profit', profit)\n",
        "cab_merged.head()"
      ]
    },
    {
      "cell_type": "markdown",
      "id": "24a9ae3d",
      "metadata": {
        "id": "24a9ae3d"
      },
      "source": [
        "In order to compare the two companies. It is better to seperate the dataframe for each one."
      ]
    },
    {
      "cell_type": "code",
      "execution_count": 148,
      "id": "fab72e65",
      "metadata": {
        "id": "fab72e65"
      },
      "outputs": [],
      "source": [
        "pink = cab_merged[cab_merged.Company == 'Pink Cab']\n",
        "yellow = cab_merged[cab_merged.Company == 'Yellow Cab']\n",
        "pink_c = '#9000a6'"
      ]
    },
    {
      "cell_type": "code",
      "source": [
        "pink.head()"
      ],
      "metadata": {
        "colab": {
          "base_uri": "https://localhost:8080/",
          "height": 206
        },
        "id": "bMp1X1anQ38v",
        "outputId": "8e63add1-f752-4f4f-efb3-a5bb3213afc7"
      },
      "id": "bMp1X1anQ38v",
      "execution_count": 149,
      "outputs": [
        {
          "output_type": "execute_result",
          "data": {
            "text/plain": [
              "   Transaction ID Date of Travel  Year Month   Company        City  \\\n",
              "0        10000011     2016-01-10  2016    01  Pink Cab  ATLANTA GA   \n",
              "1        10000012     2016-01-08  2016    01  Pink Cab  ATLANTA GA   \n",
              "2        10000013     2016-01-04  2016    01  Pink Cab  ATLANTA GA   \n",
              "3        10000014     2016-01-09  2016    01  Pink Cab  ATLANTA GA   \n",
              "4        10000015     2016-01-05  2016    01  Pink Cab  ATLANTA GA   \n",
              "\n",
              "   KM Travelled  Price Charged  Cost of Trip  Profit  Population  Users  \\\n",
              "0         30.45         370.95       313.635  57.315      814885  24701   \n",
              "1         28.62         358.52       334.854  23.666      814885  24701   \n",
              "2          9.04         125.20        97.632  27.568      814885  24701   \n",
              "3         33.17         377.40       351.602  25.798      814885  24701   \n",
              "4          8.73         114.62        97.776  16.844      814885  24701   \n",
              "\n",
              "   Customer ID Payment_Mode Gender  Age  Income (USD/Month)  \n",
              "0        29290         Card   Male   28               10813  \n",
              "1        27703         Card   Male   27                9237  \n",
              "2        28712         Cash   Male   53               11242  \n",
              "3        28020         Cash   Male   23               23327  \n",
              "4        27182         Card   Male   33                8536  "
            ],
            "text/html": [
              "\n",
              "  <div id=\"df-7da1f6ca-42a3-4e55-992b-16498ac12803\">\n",
              "    <div class=\"colab-df-container\">\n",
              "      <div>\n",
              "<style scoped>\n",
              "    .dataframe tbody tr th:only-of-type {\n",
              "        vertical-align: middle;\n",
              "    }\n",
              "\n",
              "    .dataframe tbody tr th {\n",
              "        vertical-align: top;\n",
              "    }\n",
              "\n",
              "    .dataframe thead th {\n",
              "        text-align: right;\n",
              "    }\n",
              "</style>\n",
              "<table border=\"1\" class=\"dataframe\">\n",
              "  <thead>\n",
              "    <tr style=\"text-align: right;\">\n",
              "      <th></th>\n",
              "      <th>Transaction ID</th>\n",
              "      <th>Date of Travel</th>\n",
              "      <th>Year</th>\n",
              "      <th>Month</th>\n",
              "      <th>Company</th>\n",
              "      <th>City</th>\n",
              "      <th>KM Travelled</th>\n",
              "      <th>Price Charged</th>\n",
              "      <th>Cost of Trip</th>\n",
              "      <th>Profit</th>\n",
              "      <th>Population</th>\n",
              "      <th>Users</th>\n",
              "      <th>Customer ID</th>\n",
              "      <th>Payment_Mode</th>\n",
              "      <th>Gender</th>\n",
              "      <th>Age</th>\n",
              "      <th>Income (USD/Month)</th>\n",
              "    </tr>\n",
              "  </thead>\n",
              "  <tbody>\n",
              "    <tr>\n",
              "      <th>0</th>\n",
              "      <td>10000011</td>\n",
              "      <td>2016-01-10</td>\n",
              "      <td>2016</td>\n",
              "      <td>01</td>\n",
              "      <td>Pink Cab</td>\n",
              "      <td>ATLANTA GA</td>\n",
              "      <td>30.45</td>\n",
              "      <td>370.95</td>\n",
              "      <td>313.635</td>\n",
              "      <td>57.315</td>\n",
              "      <td>814885</td>\n",
              "      <td>24701</td>\n",
              "      <td>29290</td>\n",
              "      <td>Card</td>\n",
              "      <td>Male</td>\n",
              "      <td>28</td>\n",
              "      <td>10813</td>\n",
              "    </tr>\n",
              "    <tr>\n",
              "      <th>1</th>\n",
              "      <td>10000012</td>\n",
              "      <td>2016-01-08</td>\n",
              "      <td>2016</td>\n",
              "      <td>01</td>\n",
              "      <td>Pink Cab</td>\n",
              "      <td>ATLANTA GA</td>\n",
              "      <td>28.62</td>\n",
              "      <td>358.52</td>\n",
              "      <td>334.854</td>\n",
              "      <td>23.666</td>\n",
              "      <td>814885</td>\n",
              "      <td>24701</td>\n",
              "      <td>27703</td>\n",
              "      <td>Card</td>\n",
              "      <td>Male</td>\n",
              "      <td>27</td>\n",
              "      <td>9237</td>\n",
              "    </tr>\n",
              "    <tr>\n",
              "      <th>2</th>\n",
              "      <td>10000013</td>\n",
              "      <td>2016-01-04</td>\n",
              "      <td>2016</td>\n",
              "      <td>01</td>\n",
              "      <td>Pink Cab</td>\n",
              "      <td>ATLANTA GA</td>\n",
              "      <td>9.04</td>\n",
              "      <td>125.20</td>\n",
              "      <td>97.632</td>\n",
              "      <td>27.568</td>\n",
              "      <td>814885</td>\n",
              "      <td>24701</td>\n",
              "      <td>28712</td>\n",
              "      <td>Cash</td>\n",
              "      <td>Male</td>\n",
              "      <td>53</td>\n",
              "      <td>11242</td>\n",
              "    </tr>\n",
              "    <tr>\n",
              "      <th>3</th>\n",
              "      <td>10000014</td>\n",
              "      <td>2016-01-09</td>\n",
              "      <td>2016</td>\n",
              "      <td>01</td>\n",
              "      <td>Pink Cab</td>\n",
              "      <td>ATLANTA GA</td>\n",
              "      <td>33.17</td>\n",
              "      <td>377.40</td>\n",
              "      <td>351.602</td>\n",
              "      <td>25.798</td>\n",
              "      <td>814885</td>\n",
              "      <td>24701</td>\n",
              "      <td>28020</td>\n",
              "      <td>Cash</td>\n",
              "      <td>Male</td>\n",
              "      <td>23</td>\n",
              "      <td>23327</td>\n",
              "    </tr>\n",
              "    <tr>\n",
              "      <th>4</th>\n",
              "      <td>10000015</td>\n",
              "      <td>2016-01-05</td>\n",
              "      <td>2016</td>\n",
              "      <td>01</td>\n",
              "      <td>Pink Cab</td>\n",
              "      <td>ATLANTA GA</td>\n",
              "      <td>8.73</td>\n",
              "      <td>114.62</td>\n",
              "      <td>97.776</td>\n",
              "      <td>16.844</td>\n",
              "      <td>814885</td>\n",
              "      <td>24701</td>\n",
              "      <td>27182</td>\n",
              "      <td>Card</td>\n",
              "      <td>Male</td>\n",
              "      <td>33</td>\n",
              "      <td>8536</td>\n",
              "    </tr>\n",
              "  </tbody>\n",
              "</table>\n",
              "</div>\n",
              "      <button class=\"colab-df-convert\" onclick=\"convertToInteractive('df-7da1f6ca-42a3-4e55-992b-16498ac12803')\"\n",
              "              title=\"Convert this dataframe to an interactive table.\"\n",
              "              style=\"display:none;\">\n",
              "        \n",
              "  <svg xmlns=\"http://www.w3.org/2000/svg\" height=\"24px\"viewBox=\"0 0 24 24\"\n",
              "       width=\"24px\">\n",
              "    <path d=\"M0 0h24v24H0V0z\" fill=\"none\"/>\n",
              "    <path d=\"M18.56 5.44l.94 2.06.94-2.06 2.06-.94-2.06-.94-.94-2.06-.94 2.06-2.06.94zm-11 1L8.5 8.5l.94-2.06 2.06-.94-2.06-.94L8.5 2.5l-.94 2.06-2.06.94zm10 10l.94 2.06.94-2.06 2.06-.94-2.06-.94-.94-2.06-.94 2.06-2.06.94z\"/><path d=\"M17.41 7.96l-1.37-1.37c-.4-.4-.92-.59-1.43-.59-.52 0-1.04.2-1.43.59L10.3 9.45l-7.72 7.72c-.78.78-.78 2.05 0 2.83L4 21.41c.39.39.9.59 1.41.59.51 0 1.02-.2 1.41-.59l7.78-7.78 2.81-2.81c.8-.78.8-2.07 0-2.86zM5.41 20L4 18.59l7.72-7.72 1.47 1.35L5.41 20z\"/>\n",
              "  </svg>\n",
              "      </button>\n",
              "      \n",
              "  <style>\n",
              "    .colab-df-container {\n",
              "      display:flex;\n",
              "      flex-wrap:wrap;\n",
              "      gap: 12px;\n",
              "    }\n",
              "\n",
              "    .colab-df-convert {\n",
              "      background-color: #E8F0FE;\n",
              "      border: none;\n",
              "      border-radius: 50%;\n",
              "      cursor: pointer;\n",
              "      display: none;\n",
              "      fill: #1967D2;\n",
              "      height: 32px;\n",
              "      padding: 0 0 0 0;\n",
              "      width: 32px;\n",
              "    }\n",
              "\n",
              "    .colab-df-convert:hover {\n",
              "      background-color: #E2EBFA;\n",
              "      box-shadow: 0px 1px 2px rgba(60, 64, 67, 0.3), 0px 1px 3px 1px rgba(60, 64, 67, 0.15);\n",
              "      fill: #174EA6;\n",
              "    }\n",
              "\n",
              "    [theme=dark] .colab-df-convert {\n",
              "      background-color: #3B4455;\n",
              "      fill: #D2E3FC;\n",
              "    }\n",
              "\n",
              "    [theme=dark] .colab-df-convert:hover {\n",
              "      background-color: #434B5C;\n",
              "      box-shadow: 0px 1px 3px 1px rgba(0, 0, 0, 0.15);\n",
              "      filter: drop-shadow(0px 1px 2px rgba(0, 0, 0, 0.3));\n",
              "      fill: #FFFFFF;\n",
              "    }\n",
              "  </style>\n",
              "\n",
              "      <script>\n",
              "        const buttonEl =\n",
              "          document.querySelector('#df-7da1f6ca-42a3-4e55-992b-16498ac12803 button.colab-df-convert');\n",
              "        buttonEl.style.display =\n",
              "          google.colab.kernel.accessAllowed ? 'block' : 'none';\n",
              "\n",
              "        async function convertToInteractive(key) {\n",
              "          const element = document.querySelector('#df-7da1f6ca-42a3-4e55-992b-16498ac12803');\n",
              "          const dataTable =\n",
              "            await google.colab.kernel.invokeFunction('convertToInteractive',\n",
              "                                                     [key], {});\n",
              "          if (!dataTable) return;\n",
              "\n",
              "          const docLinkHtml = 'Like what you see? Visit the ' +\n",
              "            '<a target=\"_blank\" href=https://colab.research.google.com/notebooks/data_table.ipynb>data table notebook</a>'\n",
              "            + ' to learn more about interactive tables.';\n",
              "          element.innerHTML = '';\n",
              "          dataTable['output_type'] = 'display_data';\n",
              "          await google.colab.output.renderOutput(dataTable, element);\n",
              "          const docLink = document.createElement('div');\n",
              "          docLink.innerHTML = docLinkHtml;\n",
              "          element.appendChild(docLink);\n",
              "        }\n",
              "      </script>\n",
              "    </div>\n",
              "  </div>\n",
              "  "
            ]
          },
          "metadata": {},
          "execution_count": 149
        }
      ]
    },
    {
      "cell_type": "markdown",
      "id": "e0ae2326",
      "metadata": {
        "id": "e0ae2326"
      },
      "source": [
        "## Data Analysis\n",
        "\n",
        "Now we begin the process of answering our questions.\n",
        "\n",
        "### Profits\n",
        "\n",
        "First we look into which company has a higher profit. In order to prep the data, a variable was made to represent the **profit per year** and **profit percentage per year** for each company.\n",
        "\n",
        "This iformation was put into both a table, and line graphs for each topic as shown below."
      ]
    },
    {
      "cell_type": "code",
      "execution_count": 150,
      "id": "b2dfc4f4",
      "metadata": {
        "scrolled": false,
        "colab": {
          "base_uri": "https://localhost:8080/",
          "height": 542
        },
        "id": "b2dfc4f4",
        "outputId": "c0ebc7ff-49cc-44f7-a682-cfbecc451626"
      },
      "outputs": [
        {
          "output_type": "display_data",
          "data": {
            "text/html": [
              "<html>\n",
              "<head><meta charset=\"utf-8\" /></head>\n",
              "<body>\n",
              "    <div>            <script src=\"https://cdnjs.cloudflare.com/ajax/libs/mathjax/2.7.5/MathJax.js?config=TeX-AMS-MML_SVG\"></script><script type=\"text/javascript\">if (window.MathJax) {MathJax.Hub.Config({SVG: {font: \"STIX-Web\"}});}</script>                <script type=\"text/javascript\">window.PlotlyConfig = {MathJaxConfig: 'local'};</script>\n",
              "        <script src=\"https://cdn.plot.ly/plotly-2.8.3.min.js\"></script>                <div id=\"3756d9c8-47e7-4ddc-a4eb-e5d1c8b1f12e\" class=\"plotly-graph-div\" style=\"height:525px; width:100%;\"></div>            <script type=\"text/javascript\">                                    window.PLOTLYENV=window.PLOTLYENV || {};                                    if (document.getElementById(\"3756d9c8-47e7-4ddc-a4eb-e5d1c8b1f12e\")) {                    Plotly.newPlot(                        \"3756d9c8-47e7-4ddc-a4eb-e5d1c8b1f12e\",                        [{\"cells\":{\"values\":[[\"Pink Cab\",\"Yellow Cab\"],[1686457.51,13786935.95],[21.57,36.2],[2033435.13,16586614.06],[17.61,36.18],[1578972.46,13609461.48],[18.96,32.59],[1766288.37,14661003.83],[19.38,34.99]]},\"header\":{\"values\":[\"Company\",\"2016 Profit\",\"2016 Profit Margin (%)\",\"2017 Profit\",\"2017 Profit Margin (%)\",\"2018 Profit\",\"2018 Profit Margin (%)\",\"Average Profit\",\"Average Profit Margin (%)\"]},\"type\":\"table\"}],                        {\"template\":{\"data\":{\"bar\":[{\"error_x\":{\"color\":\"#2a3f5f\"},\"error_y\":{\"color\":\"#2a3f5f\"},\"marker\":{\"line\":{\"color\":\"#E5ECF6\",\"width\":0.5},\"pattern\":{\"fillmode\":\"overlay\",\"size\":10,\"solidity\":0.2}},\"type\":\"bar\"}],\"barpolar\":[{\"marker\":{\"line\":{\"color\":\"#E5ECF6\",\"width\":0.5},\"pattern\":{\"fillmode\":\"overlay\",\"size\":10,\"solidity\":0.2}},\"type\":\"barpolar\"}],\"carpet\":[{\"aaxis\":{\"endlinecolor\":\"#2a3f5f\",\"gridcolor\":\"white\",\"linecolor\":\"white\",\"minorgridcolor\":\"white\",\"startlinecolor\":\"#2a3f5f\"},\"baxis\":{\"endlinecolor\":\"#2a3f5f\",\"gridcolor\":\"white\",\"linecolor\":\"white\",\"minorgridcolor\":\"white\",\"startlinecolor\":\"#2a3f5f\"},\"type\":\"carpet\"}],\"choropleth\":[{\"colorbar\":{\"outlinewidth\":0,\"ticks\":\"\"},\"type\":\"choropleth\"}],\"contour\":[{\"colorbar\":{\"outlinewidth\":0,\"ticks\":\"\"},\"colorscale\":[[0.0,\"#0d0887\"],[0.1111111111111111,\"#46039f\"],[0.2222222222222222,\"#7201a8\"],[0.3333333333333333,\"#9c179e\"],[0.4444444444444444,\"#bd3786\"],[0.5555555555555556,\"#d8576b\"],[0.6666666666666666,\"#ed7953\"],[0.7777777777777778,\"#fb9f3a\"],[0.8888888888888888,\"#fdca26\"],[1.0,\"#f0f921\"]],\"type\":\"contour\"}],\"contourcarpet\":[{\"colorbar\":{\"outlinewidth\":0,\"ticks\":\"\"},\"type\":\"contourcarpet\"}],\"heatmap\":[{\"colorbar\":{\"outlinewidth\":0,\"ticks\":\"\"},\"colorscale\":[[0.0,\"#0d0887\"],[0.1111111111111111,\"#46039f\"],[0.2222222222222222,\"#7201a8\"],[0.3333333333333333,\"#9c179e\"],[0.4444444444444444,\"#bd3786\"],[0.5555555555555556,\"#d8576b\"],[0.6666666666666666,\"#ed7953\"],[0.7777777777777778,\"#fb9f3a\"],[0.8888888888888888,\"#fdca26\"],[1.0,\"#f0f921\"]],\"type\":\"heatmap\"}],\"heatmapgl\":[{\"colorbar\":{\"outlinewidth\":0,\"ticks\":\"\"},\"colorscale\":[[0.0,\"#0d0887\"],[0.1111111111111111,\"#46039f\"],[0.2222222222222222,\"#7201a8\"],[0.3333333333333333,\"#9c179e\"],[0.4444444444444444,\"#bd3786\"],[0.5555555555555556,\"#d8576b\"],[0.6666666666666666,\"#ed7953\"],[0.7777777777777778,\"#fb9f3a\"],[0.8888888888888888,\"#fdca26\"],[1.0,\"#f0f921\"]],\"type\":\"heatmapgl\"}],\"histogram\":[{\"marker\":{\"pattern\":{\"fillmode\":\"overlay\",\"size\":10,\"solidity\":0.2}},\"type\":\"histogram\"}],\"histogram2d\":[{\"colorbar\":{\"outlinewidth\":0,\"ticks\":\"\"},\"colorscale\":[[0.0,\"#0d0887\"],[0.1111111111111111,\"#46039f\"],[0.2222222222222222,\"#7201a8\"],[0.3333333333333333,\"#9c179e\"],[0.4444444444444444,\"#bd3786\"],[0.5555555555555556,\"#d8576b\"],[0.6666666666666666,\"#ed7953\"],[0.7777777777777778,\"#fb9f3a\"],[0.8888888888888888,\"#fdca26\"],[1.0,\"#f0f921\"]],\"type\":\"histogram2d\"}],\"histogram2dcontour\":[{\"colorbar\":{\"outlinewidth\":0,\"ticks\":\"\"},\"colorscale\":[[0.0,\"#0d0887\"],[0.1111111111111111,\"#46039f\"],[0.2222222222222222,\"#7201a8\"],[0.3333333333333333,\"#9c179e\"],[0.4444444444444444,\"#bd3786\"],[0.5555555555555556,\"#d8576b\"],[0.6666666666666666,\"#ed7953\"],[0.7777777777777778,\"#fb9f3a\"],[0.8888888888888888,\"#fdca26\"],[1.0,\"#f0f921\"]],\"type\":\"histogram2dcontour\"}],\"mesh3d\":[{\"colorbar\":{\"outlinewidth\":0,\"ticks\":\"\"},\"type\":\"mesh3d\"}],\"parcoords\":[{\"line\":{\"colorbar\":{\"outlinewidth\":0,\"ticks\":\"\"}},\"type\":\"parcoords\"}],\"pie\":[{\"automargin\":true,\"type\":\"pie\"}],\"scatter\":[{\"marker\":{\"colorbar\":{\"outlinewidth\":0,\"ticks\":\"\"}},\"type\":\"scatter\"}],\"scatter3d\":[{\"line\":{\"colorbar\":{\"outlinewidth\":0,\"ticks\":\"\"}},\"marker\":{\"colorbar\":{\"outlinewidth\":0,\"ticks\":\"\"}},\"type\":\"scatter3d\"}],\"scattercarpet\":[{\"marker\":{\"colorbar\":{\"outlinewidth\":0,\"ticks\":\"\"}},\"type\":\"scattercarpet\"}],\"scattergeo\":[{\"marker\":{\"colorbar\":{\"outlinewidth\":0,\"ticks\":\"\"}},\"type\":\"scattergeo\"}],\"scattergl\":[{\"marker\":{\"colorbar\":{\"outlinewidth\":0,\"ticks\":\"\"}},\"type\":\"scattergl\"}],\"scattermapbox\":[{\"marker\":{\"colorbar\":{\"outlinewidth\":0,\"ticks\":\"\"}},\"type\":\"scattermapbox\"}],\"scatterpolar\":[{\"marker\":{\"colorbar\":{\"outlinewidth\":0,\"ticks\":\"\"}},\"type\":\"scatterpolar\"}],\"scatterpolargl\":[{\"marker\":{\"colorbar\":{\"outlinewidth\":0,\"ticks\":\"\"}},\"type\":\"scatterpolargl\"}],\"scatterternary\":[{\"marker\":{\"colorbar\":{\"outlinewidth\":0,\"ticks\":\"\"}},\"type\":\"scatterternary\"}],\"surface\":[{\"colorbar\":{\"outlinewidth\":0,\"ticks\":\"\"},\"colorscale\":[[0.0,\"#0d0887\"],[0.1111111111111111,\"#46039f\"],[0.2222222222222222,\"#7201a8\"],[0.3333333333333333,\"#9c179e\"],[0.4444444444444444,\"#bd3786\"],[0.5555555555555556,\"#d8576b\"],[0.6666666666666666,\"#ed7953\"],[0.7777777777777778,\"#fb9f3a\"],[0.8888888888888888,\"#fdca26\"],[1.0,\"#f0f921\"]],\"type\":\"surface\"}],\"table\":[{\"cells\":{\"fill\":{\"color\":\"#EBF0F8\"},\"line\":{\"color\":\"white\"}},\"header\":{\"fill\":{\"color\":\"#C8D4E3\"},\"line\":{\"color\":\"white\"}},\"type\":\"table\"}]},\"layout\":{\"annotationdefaults\":{\"arrowcolor\":\"#2a3f5f\",\"arrowhead\":0,\"arrowwidth\":1},\"autotypenumbers\":\"strict\",\"coloraxis\":{\"colorbar\":{\"outlinewidth\":0,\"ticks\":\"\"}},\"colorscale\":{\"diverging\":[[0,\"#8e0152\"],[0.1,\"#c51b7d\"],[0.2,\"#de77ae\"],[0.3,\"#f1b6da\"],[0.4,\"#fde0ef\"],[0.5,\"#f7f7f7\"],[0.6,\"#e6f5d0\"],[0.7,\"#b8e186\"],[0.8,\"#7fbc41\"],[0.9,\"#4d9221\"],[1,\"#276419\"]],\"sequential\":[[0.0,\"#0d0887\"],[0.1111111111111111,\"#46039f\"],[0.2222222222222222,\"#7201a8\"],[0.3333333333333333,\"#9c179e\"],[0.4444444444444444,\"#bd3786\"],[0.5555555555555556,\"#d8576b\"],[0.6666666666666666,\"#ed7953\"],[0.7777777777777778,\"#fb9f3a\"],[0.8888888888888888,\"#fdca26\"],[1.0,\"#f0f921\"]],\"sequentialminus\":[[0.0,\"#0d0887\"],[0.1111111111111111,\"#46039f\"],[0.2222222222222222,\"#7201a8\"],[0.3333333333333333,\"#9c179e\"],[0.4444444444444444,\"#bd3786\"],[0.5555555555555556,\"#d8576b\"],[0.6666666666666666,\"#ed7953\"],[0.7777777777777778,\"#fb9f3a\"],[0.8888888888888888,\"#fdca26\"],[1.0,\"#f0f921\"]]},\"colorway\":[\"#636efa\",\"#EF553B\",\"#00cc96\",\"#ab63fa\",\"#FFA15A\",\"#19d3f3\",\"#FF6692\",\"#B6E880\",\"#FF97FF\",\"#FECB52\"],\"font\":{\"color\":\"#2a3f5f\"},\"geo\":{\"bgcolor\":\"white\",\"lakecolor\":\"white\",\"landcolor\":\"#E5ECF6\",\"showlakes\":true,\"showland\":true,\"subunitcolor\":\"white\"},\"hoverlabel\":{\"align\":\"left\"},\"hovermode\":\"closest\",\"mapbox\":{\"style\":\"light\"},\"paper_bgcolor\":\"white\",\"plot_bgcolor\":\"#E5ECF6\",\"polar\":{\"angularaxis\":{\"gridcolor\":\"white\",\"linecolor\":\"white\",\"ticks\":\"\"},\"bgcolor\":\"#E5ECF6\",\"radialaxis\":{\"gridcolor\":\"white\",\"linecolor\":\"white\",\"ticks\":\"\"}},\"scene\":{\"xaxis\":{\"backgroundcolor\":\"#E5ECF6\",\"gridcolor\":\"white\",\"gridwidth\":2,\"linecolor\":\"white\",\"showbackground\":true,\"ticks\":\"\",\"zerolinecolor\":\"white\"},\"yaxis\":{\"backgroundcolor\":\"#E5ECF6\",\"gridcolor\":\"white\",\"gridwidth\":2,\"linecolor\":\"white\",\"showbackground\":true,\"ticks\":\"\",\"zerolinecolor\":\"white\"},\"zaxis\":{\"backgroundcolor\":\"#E5ECF6\",\"gridcolor\":\"white\",\"gridwidth\":2,\"linecolor\":\"white\",\"showbackground\":true,\"ticks\":\"\",\"zerolinecolor\":\"white\"}},\"shapedefaults\":{\"line\":{\"color\":\"#2a3f5f\"}},\"ternary\":{\"aaxis\":{\"gridcolor\":\"white\",\"linecolor\":\"white\",\"ticks\":\"\"},\"baxis\":{\"gridcolor\":\"white\",\"linecolor\":\"white\",\"ticks\":\"\"},\"bgcolor\":\"#E5ECF6\",\"caxis\":{\"gridcolor\":\"white\",\"linecolor\":\"white\",\"ticks\":\"\"}},\"title\":{\"x\":0.05},\"xaxis\":{\"automargin\":true,\"gridcolor\":\"white\",\"linecolor\":\"white\",\"ticks\":\"\",\"title\":{\"standoff\":15},\"zerolinecolor\":\"white\",\"zerolinewidth\":2},\"yaxis\":{\"automargin\":true,\"gridcolor\":\"white\",\"linecolor\":\"white\",\"ticks\":\"\",\"title\":{\"standoff\":15},\"zerolinecolor\":\"white\",\"zerolinewidth\":2}}}},                        {\"responsive\": true}                    ).then(function(){\n",
              "                            \n",
              "var gd = document.getElementById('3756d9c8-47e7-4ddc-a4eb-e5d1c8b1f12e');\n",
              "var x = new MutationObserver(function (mutations, observer) {{\n",
              "        var display = window.getComputedStyle(gd).display;\n",
              "        if (!display || display === 'none') {{\n",
              "            console.log([gd, 'removed!']);\n",
              "            Plotly.purge(gd);\n",
              "            observer.disconnect();\n",
              "        }}\n",
              "}});\n",
              "\n",
              "// Listen for the removal of the full notebook cells\n",
              "var notebookContainer = gd.closest('#notebook-container');\n",
              "if (notebookContainer) {{\n",
              "    x.observe(notebookContainer, {childList: true});\n",
              "}}\n",
              "\n",
              "// Listen for the clearing of the current output cell\n",
              "var outputEl = gd.closest('.output');\n",
              "if (outputEl) {{\n",
              "    x.observe(outputEl, {childList: true});\n",
              "}}\n",
              "\n",
              "                        })                };                            </script>        </div>\n",
              "</body>\n",
              "</html>"
            ]
          },
          "metadata": {}
        }
      ],
      "source": [
        "import plotly.graph_objects as go\n",
        "\n",
        "pink_2016 = round(pink[pink.Year == '2016'].Profit.sum(), 2)\n",
        "pink_2016_per = round((pink_2016 / \n",
        "                       (pink[pink.Year == '2016']['Price Charged'].sum()) * 100), 2)\n",
        "pink_2017 = round(pink[pink.Year == '2017'].Profit.sum(), 2)\n",
        "pink_2017_per = round((pink_2016 / \n",
        "                       (pink[pink.Year == '2017']['Price Charged'].sum()) * 100), 2)\n",
        "pink_2018 = round(pink[pink.Year == '2018'].Profit.sum(), 2)\n",
        "pink_2018_per = round((pink_2016 / \n",
        "                       (pink[pink.Year == '2018']['Price Charged'].sum()) * 100), 2)\n",
        "pink_avg = round(((pink_2016 + pink_2017 + pink_2018) / 3), 2)\n",
        "pink_per_avg = round(((pink_2016_per + pink_2017_per+ pink_2018_per)/ 3), 2)\n",
        "\n",
        "yellow_2016 = round(yellow[yellow.Year == '2016'].Profit.sum(), 2)\n",
        "yellow_2016_per = round((yellow_2016 / (yellow[yellow.Year == '2016']['Price Charged'].sum()) * 100), 2)\n",
        "yellow_2017 = round(yellow[yellow.Year == '2017'].Profit.sum(), 2)\n",
        "yellow_2017_per = round((yellow_2017 / (yellow[yellow.Year == '2017']['Price Charged'].sum()) * 100), 2)\n",
        "yellow_2018 = round(yellow[yellow.Year == '2018'].Profit.sum(), 2)\n",
        "yellow_2018_per = round((yellow_2018 / (yellow[yellow.Year == '2018']['Price Charged'].sum()) * 100), 2)\n",
        "yellow_avg = round(((yellow_2016 + yellow_2017 + yellow_2018) / 3), 2)\n",
        "yellow_per_avg = round(((yellow_2016_per + yellow_2017_per + yellow_2018_per)/ 3), 2)\n",
        "\n",
        "\n",
        "fig = go.Figure(data=[go.Table(header=dict(values=['Company', '2016 Profit', '2016 Profit Margin (%)', \n",
        "                                                   '2017 Profit', '2017 Profit Margin (%)', '2018 Profit',\n",
        "                                                   '2018 Profit Margin (%)', 'Average Profit', 'Average Profit Margin (%)']),\n",
        "                 cells=dict( values=[['Pink Cab', 'Yellow Cab'], \n",
        "                                    [pink_2016, yellow_2016],\n",
        "                                    [pink_2016_per, yellow_2016_per],\n",
        "                                    [pink_2017, yellow_2017],\n",
        "                                    [pink_2017_per, yellow_2017_per], \n",
        "                                    [pink_2018, yellow_2018],\n",
        "                                    [pink_2018_per, yellow_2018_per],\n",
        "                                    [pink_avg, yellow_avg],\n",
        "                                    [pink_per_avg, yellow_per_avg]]))])\n",
        "fig.show()"
      ]
    },
    {
      "cell_type": "markdown",
      "id": "481e1889",
      "metadata": {
        "id": "481e1889"
      },
      "source": [
        "As you can see, **Yellow Cab** has a higher **Average Profit** ($14,661,003.83) and **Average Profit Margin** (34.99%)."
      ]
    },
    {
      "cell_type": "code",
      "execution_count": 151,
      "id": "1c52adfe",
      "metadata": {
        "scrolled": false,
        "colab": {
          "base_uri": "https://localhost:8080/",
          "height": 513
        },
        "id": "1c52adfe",
        "outputId": "cedca328-7872-4e04-a56b-9ed528eb87a9"
      },
      "outputs": [
        {
          "output_type": "display_data",
          "data": {
            "text/plain": [
              "<Figure size 576x576 with 1 Axes>"
            ],
            "image/png": "[encoded data removed]"
          },
          "metadata": {
            "needs_background": "light"
          }
        }
      ],
      "source": [
        "pink_profit = [pink_2016, pink_2017, pink_2018]\n",
        "yellow_profit = [yellow_2016, yellow_2017, yellow_2018]\n",
        "years = [2016, 2017, 2018]\n",
        "\n",
        "fig = plt.figure(figsize=(8, 8))\n",
        "ax = plt.subplot()\n",
        "plt.plot(years, pink_profit, color=pink_c, label='Pink Cab')\n",
        "plt.plot(years, yellow_profit, color='gold', label = 'Yellow Cab')\n",
        "ax.set_xticks(years)\n",
        "ax.ticklabel_format(style='plain')\n",
        "plt.title('Profit for Each Year')\n",
        "plt.xlabel('Year')\n",
        "plt.ylabel('Profit ($)')\n",
        "plt.legend()\n",
        "ax.get_yaxis().set_major_formatter(\n",
        "    matplotlib.ticker.FuncFormatter(lambda x, p: format(int(x), ',')))\n",
        "plt.savefig('profit_per_year.png')\n",
        "plt.show()\n"
      ]
    },
    {
      "cell_type": "markdown",
      "id": "d1ad66bc",
      "metadata": {
        "id": "d1ad66bc"
      },
      "source": [
        "The above graphs highlights that both companies had more **profits** in 2017 while have less in 2018."
      ]
    },
    {
      "cell_type": "code",
      "execution_count": 152,
      "id": "82b602a2",
      "metadata": {
        "scrolled": false,
        "colab": {
          "base_uri": "https://localhost:8080/",
          "height": 513
        },
        "id": "82b602a2",
        "outputId": "2a390256-37a0-49a0-c121-bcfb66c64712"
      },
      "outputs": [
        {
          "output_type": "display_data",
          "data": {
            "text/plain": [
              "<Figure size 576x576 with 1 Axes>"
            ],
            "image/png": "[encoded data removed]"
          },
          "metadata": {
            "needs_background": "light"
          }
        }
      ],
      "source": [
        "pink_per_list = [pink_2016_per, pink_2017_per, pink_2018_per]\n",
        "yellow_per_list = [yellow_2016_per, yellow_2017_per, yellow_2018_per]\n",
        "\n",
        "fig = plt.figure(figsize=(8, 8))\n",
        "ax = plt.subplot()\n",
        "plt.plot(years, pink_per_list, color=pink_c, label='Pink Cab')\n",
        "plt.plot(years, yellow_per_list, color='gold', label='Yellow Cab')\n",
        "plt.title('Profit Margin per Year')\n",
        "plt.legend()\n",
        "plt.ylabel('Profit Margin')\n",
        "plt.xlabel('Years')\n",
        "ax.set_xticks(years)\n",
        "plt.savefig('profit_margin.png')\n",
        "plt.show()"
      ]
    },
    {
      "cell_type": "markdown",
      "id": "b0fe0c50",
      "metadata": {
        "id": "b0fe0c50"
      },
      "source": [
        "This graph highlights some differences between the two companies.\n",
        "\n",
        "**Yellow Cab**\n",
        "- Very similar **profit margin** in 2016 and 2017\n",
        "- Drop in **profit margin** in 2018\n",
        "- While **profit** was UP from 2017 to 2018, the **profit margin** went down\n",
        "\n",
        "**Pink Cab**\n",
        "- Drop in **profit margin** from 2016 to 2017 \n",
        "- Rise in **profit margin** in 2018\n",
        "- While **profit** dropped 2018, **profit margin** increased "
      ]
    },
    {
      "cell_type": "markdown",
      "id": "387b292e",
      "metadata": {
        "id": "387b292e"
      },
      "source": [
        "### Number of customers \n",
        "\n",
        "For the number of rides per year. This is done by summation the number of `Transaction ID` in each year."
      ]
    },
    {
      "cell_type": "code",
      "source": [
        "yellow_rides_2016 = yellow[yellow.Year == '2016']['Transaction ID'].count()\n",
        "yellow_rides_2017 = yellow[yellow.Year == '2017']['Transaction ID'].count()\n",
        "yellow_rides_2018 = yellow[yellow.Year == '2018']['Transaction ID'].count()\n",
        "yellow_rides_full = [yellow_rides_2016, yellow_rides_2017, yellow_rides_2018]\n",
        "\n",
        "pink_rides_2016 = pink[pink.Year == '2016']['Transaction ID'].count()\n",
        "pink_rides_2017 = pink[pink.Year == '2017']['Transaction ID'].count()\n",
        "pink_rides_2018 = pink[pink.Year == '2018']['Transaction ID'].count()\n",
        "pink_rides_full = [pink_rides_2016, pink_rides_2017, pink_rides_2018]\n",
        "\n",
        "fig = plt.figure(figsize=(8, 8))\n",
        "ax = plt.subplot()\n",
        "plt.plot(years, pink_rides_full, color=pink_c, label='Pink Cab')\n",
        "plt.plot(years, yellow_rides_full, color='gold', label='Yellow Cab')\n",
        "plt.legend()\n",
        "plt.title('Number of Rides per Year')\n",
        "plt.ylabel('Number of Rides')\n",
        "plt.xlabel('Year')\n",
        "ax.set_xticks(years)\n",
        "plt.savefig('num_rides.png')\n",
        "\n",
        "plt.show()"
      ],
      "metadata": {
        "colab": {
          "base_uri": "https://localhost:8080/",
          "height": 513
        },
        "id": "QGVv9DLXYC6q",
        "outputId": "dfaf43b2-476b-4553-c123-d689d263d614"
      },
      "id": "QGVv9DLXYC6q",
      "execution_count": 153,
      "outputs": [
        {
          "output_type": "display_data",
          "data": {
            "text/plain": [
              "<Figure size 576x576 with 1 Axes>"
            ],
            "image/png": "[encoded data removed]"
          },
          "metadata": {
            "needs_background": "light"
          }
        }
      ]
    },
    {
      "cell_type": "markdown",
      "id": "81aafbcf",
      "metadata": {
        "id": "81aafbcf"
      },
      "source": [
        "We see that while both companies have s similar pattern, **Yellow Cab** does over twice as many rides as **Pink Cab**"
      ]
    },
    {
      "cell_type": "markdown",
      "source": [
        "## Preferable Payment Method \n",
        "Check the preferable payment method for different age groups "
      ],
      "metadata": {
        "id": "z-n25psM-jCs"
      },
      "id": "z-n25psM-jCs"
    },
    {
      "cell_type": "code",
      "source": [
        "features = [\"Age\"]\n",
        "cab_merged[features].hist(figsize=(4, 4));"
      ],
      "metadata": {
        "colab": {
          "base_uri": "https://localhost:8080/",
          "height": 281
        },
        "id": "uGW89TelPlap",
        "outputId": "70934b85-fde1-45e0-8810-1f44657c89df"
      },
      "id": "uGW89TelPlap",
      "execution_count": 154,
      "outputs": [
        {
          "output_type": "display_data",
          "data": {
            "text/plain": [
              "<Figure size 288x288 with 1 Axes>"
            ],
            "image/png": "[encoded data removed]"
          },
          "metadata": {
            "needs_background": "light"
          }
        }
      ]
    },
    {
      "cell_type": "markdown",
      "source": [
        "Young people (age below 40) take more cab rides."
      ],
      "metadata": {
        "id": "j2qm6aDgQekl"
      },
      "id": "j2qm6aDgQekl"
    },
    {
      "cell_type": "code",
      "source": [
        "fig = plt.figure(figsize=(8, 8))\n",
        "sns.histplot(data=cab_merged, x='Age', hue='Payment_Mode', multiple=\"stack\")\n",
        "plt.title('Payment Methods across Different Ages')\n",
        "plt.show()"
      ],
      "metadata": {
        "colab": {
          "base_uri": "https://localhost:8080/",
          "height": 513
        },
        "id": "wG8iO9pI-oWJ",
        "outputId": "f3a07789-8465-41c3-aba0-376a62be6061"
      },
      "id": "wG8iO9pI-oWJ",
      "execution_count": 155,
      "outputs": [
        {
          "output_type": "display_data",
          "data": {
            "text/plain": [
              "<Figure size 576x576 with 1 Axes>"
            ],
            "image/png": "[encoded data removed]"
          },
          "metadata": {
            "needs_background": "light"
          }
        }
      ]
    },
    {
      "cell_type": "markdown",
      "source": [
        "It is clear that the people below age 40 prefer using the card to pay the bill rather than cash. "
      ],
      "metadata": {
        "id": "omPisUDbA8NZ"
      },
      "id": "omPisUDbA8NZ"
    },
    {
      "cell_type": "markdown",
      "id": "87d5f4ea",
      "metadata": {
        "id": "87d5f4ea"
      },
      "source": [
        "### Unique Customers\n",
        "\n",
        "The number of unique customers for each company over the years."
      ]
    },
    {
      "cell_type": "code",
      "execution_count": 156,
      "id": "7945841d",
      "metadata": {
        "scrolled": false,
        "colab": {
          "base_uri": "https://localhost:8080/",
          "height": 531
        },
        "id": "7945841d",
        "outputId": "7b5a0283-c4c9-4d9d-c83f-f17888d61e4f"
      },
      "outputs": [
        {
          "output_type": "execute_result",
          "data": {
            "text/plain": [
              "[]"
            ]
          },
          "metadata": {},
          "execution_count": 156
        },
        {
          "output_type": "display_data",
          "data": {
            "text/plain": [
              "<Figure size 576x576 with 1 Axes>"
            ],
            "image/png": "[encoded data removed]"
          },
          "metadata": {
            "needs_background": "light"
          }
        }
      ],
      "source": [
        "pink_users_2016 = pink[pink.Year == '2016']['Customer ID'].nunique()\n",
        "pink_users_2017 = pink[pink.Year == '2017']['Customer ID'].nunique()\n",
        "pink_users_2018 = pink[pink.Year == '2018']['Customer ID'].nunique()\n",
        "pink_users = [pink_users_2016, pink_users_2018, pink_users_2018]\n",
        "\n",
        "yellow_users_2016 = yellow[yellow.Year == '2016']['Customer ID'].nunique()\n",
        "yellow_users_2017 = yellow[yellow.Year == '2017']['Customer ID'].nunique()\n",
        "yellow_users_2018 = yellow[yellow.Year == '2018']['Customer ID'].nunique()\n",
        "yellow_users = [yellow_users_2016, yellow_users_2018, yellow_users_2018]\n",
        "\n",
        "fig = plt.figure(figsize=(8, 8))\n",
        "ax = plt.subplot()\n",
        "sns.lineplot(x=years, y=pink_users, color=pink_c, label='Pink Cab')\n",
        "sns.lineplot(x=years, y=yellow_users, color='gold', label='Yellow Cab')\n",
        "plt.title('Number of Unique Customers per Year')\n",
        "plt.xlabel('Years')\n",
        "plt.ylabel('Number of Unique Customers')\n",
        "ax.set_xticks(years)\n",
        "plt.savefig('unique_customers.png')\n",
        "\n",
        "plt.plot()"
      ]
    },
    {
      "cell_type": "markdown",
      "id": "c833e37e",
      "metadata": {
        "id": "c833e37e"
      },
      "source": [
        "As with the ride numbers, the unique customers for both companies have a similar patter with **Yellow Cab** having a larger number."
      ]
    },
    {
      "cell_type": "markdown",
      "id": "c97b78c8",
      "metadata": {
        "id": "c97b78c8"
      },
      "source": [
        "### Rides per Month\n",
        "\n",
        "Next we look at the number of rides per month for each company to see if there is any seasonality."
      ]
    },
    {
      "cell_type": "code",
      "execution_count": 157,
      "id": "378e6014",
      "metadata": {
        "scrolled": false,
        "colab": {
          "base_uri": "https://localhost:8080/",
          "height": 513
        },
        "id": "378e6014",
        "outputId": "579c1237-6380-4793-f95b-bc823d414e23"
      },
      "outputs": [
        {
          "output_type": "display_data",
          "data": {
            "text/plain": [
              "<Figure size 576x576 with 1 Axes>"
            ],
            "image/png": "[encoded data removed]"
          },
          "metadata": {
            "needs_background": "light"
          }
        }
      ],
      "source": [
        "colors = [pink_c, 'gold']\n",
        "custom_palette = sns.set_palette(sns.color_palette(colors))\n",
        "\n",
        "fig = plt.figure(figsize=(8, 8))\n",
        "sns.histplot(data=cab_merged, x='Month', hue='Company', palette=custom_palette, multiple=\"stack\")\n",
        "plt.title('Number of Rides per Month')\n",
        "plt.savefig('montlhy_rides.png')\n",
        "\n",
        "plt.show()"
      ]
    },
    {
      "cell_type": "markdown",
      "id": "867d44bb",
      "metadata": {
        "id": "867d44bb"
      },
      "source": [
        "Main observations:\n",
        "- The number of rides go up quickly each month after June\n",
        "- The highest number of rides is in December"
      ]
    },
    {
      "cell_type": "markdown",
      "id": "c20e9b66",
      "metadata": {
        "id": "c20e9b66"
      },
      "source": [
        "### Profit per Month\n",
        "\n",
        "The last question we will look into is which month has the highest profit."
      ]
    },
    {
      "cell_type": "code",
      "execution_count": 158,
      "id": "d59707d2",
      "metadata": {
        "colab": {
          "base_uri": "https://localhost:8080/",
          "height": 513
        },
        "id": "d59707d2",
        "outputId": "8e973684-0ef1-425e-8853-39a265943363"
      },
      "outputs": [
        {
          "output_type": "display_data",
          "data": {
            "text/plain": [
              "<Figure size 576x576 with 1 Axes>"
            ],
            "image/png": "[encoded data removed]"
          },
          "metadata": {
            "needs_background": "light"
          }
        }
      ],
      "source": [
        "months = ['01', '02', '03', '04', '05', '06', '07', '08', '09', '10', '11', '12']\n",
        "def profit_per_month(db):\n",
        "    result = []\n",
        "    for month in months:\n",
        "        profits = db[db.Month == month].Profit.sum()\n",
        "        result.append(profits)\n",
        "    return result\n",
        "\n",
        "month_range = np.arange(len(months))\n",
        "width = 0.5\n",
        "\n",
        "fig=plt.figure(figsize=(8,8))\n",
        "ax = plt.subplot()\n",
        "plt.bar(month_range, profit_per_month(pink), width, label='Pink Cab')\n",
        "plt.bar(month_range + width, profit_per_month(yellow), width, label='Yellow Cab')\n",
        "plt.xticks(month_range + width / 2, months)\n",
        "ax.get_yaxis().set_major_formatter(\n",
        "    matplotlib.ticker.FuncFormatter(lambda x, p: format(int(x), ',')))\n",
        "plt.title('Profit per Month')\n",
        "plt.ylabel('Profit($)')\n",
        "plt.xlabel('Months')\n",
        "plt.legend()\n",
        "plt.savefig('monthly_profit.png')\n",
        "\n",
        "plt.show()"
      ]
    },
    {
      "cell_type": "markdown",
      "id": "e736846f",
      "metadata": {
        "id": "e736846f"
      },
      "source": [
        "Main observations:\n",
        "\n",
        "**Yellow Cab**\n",
        "- Lower profits in Feb-Apr and July-Aug\n",
        "- Highest profit in December\n",
        "\n",
        "**Pink Cab**\n",
        "- Lower profits from Feb - July\n",
        "- Profits rise from July and reach highest point in December\n",
        "\n",
        "**General**\n",
        "- Yellow Cab have relatively high profits across months"
      ]
    },
    {
      "cell_type": "markdown",
      "source": [
        "## Correlation check\n",
        "\n",
        "Drop non-numerical variables and check the correlation among numerical variables"
      ],
      "metadata": {
        "id": "__BN7LKtRIO3"
      },
      "id": "__BN7LKtRIO3"
    },
    {
      "cell_type": "markdown",
      "source": [
        "compute all the columns' name"
      ],
      "metadata": {
        "id": "FaisfpGmTnF5"
      },
      "id": "FaisfpGmTnF5"
    },
    {
      "cell_type": "code",
      "source": [
        "print(cab_merged.columns.values)"
      ],
      "metadata": {
        "colab": {
          "base_uri": "https://localhost:8080/"
        },
        "id": "PAe8BEBNSAnZ",
        "outputId": "6774b1b1-63b4-4677-c2c8-b05c28e17d76"
      },
      "id": "PAe8BEBNSAnZ",
      "execution_count": 159,
      "outputs": [
        {
          "output_type": "stream",
          "name": "stdout",
          "text": [
            "['Transaction ID' 'Date of Travel' 'Year' 'Month' 'Company' 'City'\n",
            " 'KM Travelled' 'Price Charged' 'Cost of Trip' 'Profit' 'Population'\n",
            " 'Users' 'Customer ID' 'Payment_Mode' 'Gender' 'Age' 'Income (USD/Month)']\n"
          ]
        }
      ]
    },
    {
      "cell_type": "code",
      "source": [
        "numerical = list(\n",
        "    set(cab_merged.columns)\n",
        "    - {\n",
        "        'Transaction ID',\n",
        "        'Customer ID',\n",
        "        'Date of Travel',\n",
        "        'Company', \n",
        "        'City',\n",
        "        'Payment_Mode',\n",
        "        'Gender',\n",
        "    }\n",
        ")\n",
        "\n",
        "# Calculate and plot\n",
        "corr_matrix = cab_merged[numerical].corr()\n",
        "sns.heatmap(corr_matrix);"
      ],
      "metadata": {
        "colab": {
          "base_uri": "https://localhost:8080/",
          "height": 363
        },
        "id": "OYu6ZihHRX7Z",
        "outputId": "53b53a03-01f9-4530-dd67-631a4bfb4891"
      },
      "id": "OYu6ZihHRX7Z",
      "execution_count": 160,
      "outputs": [
        {
          "output_type": "display_data",
          "data": {
            "text/plain": [
              "<Figure size 432x288 with 2 Axes>"
            ],
            "image/png": "[encoded data removed]"
          },
          "metadata": {
            "needs_background": "light"
          }
        }
      ]
    },
    {
      "cell_type": "markdown",
      "source": [
        "Main findings:\n",
        "\n",
        "- 'Profit' has positive correlation with 'Population'\n",
        "- 'Price Charged' has positive correlation with 'Users'"
      ],
      "metadata": {
        "id": "wR63XrELfQS1"
      },
      "id": "wR63XrELfQS1"
    },
    {
      "cell_type": "markdown",
      "source": [
        "##Conclusion:\n",
        "\n",
        "According to previous analysis, the Yellow company is worth to invest.\n"
      ],
      "metadata": {
        "id": "Qqu7rPX_j3IL"
      },
      "id": "Qqu7rPX_j3IL"
    }
  ],
  "metadata": {
    "kernelspec": {
      "display_name": "Python 3",
      "language": "python",
      "name": "python3"
    },
    "language_info": {
      "codemirror_mode": {
        "name": "ipython",
        "version": 3
      },
      "file_extension": ".py",
      "mimetype": "text/x-python",
      "name": "python",
      "nbconvert_exporter": "python",
      "pygments_lexer": "ipython3",
      "version": "3.8.8"
    },
    "colab": {
      "provenance": []
    }
  },
  "nbformat": 4,
  "nbformat_minor": 5
}